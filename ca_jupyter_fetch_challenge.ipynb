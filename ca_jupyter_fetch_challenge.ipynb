{
 "cells": [
  {
   "cell_type": "markdown",
   "id": "ae58eeaa",
   "metadata": {},
   "source": [
    "# Fetch Data Science Coding Challenge - Python"
   ]
  },
  {
   "cell_type": "markdown",
   "id": "9c248080",
   "metadata": {},
   "source": [
    "Problem Statement\n",
    "\n",
    "In Python build a scraper that manipulates the associated text document (the first\n",
    "chapter of the book Frankenstein) to do the following:\n",
    "\n",
    "● Store all distinct words in the text in a dictionary and keep track of the word  \n",
    "counts (make sure to strip all punctuation and lower the case of the words)\n",
    "\n",
    "● There are 4 sentences in this text, composed of words that are “hidden”  \n",
    "(bookended by special characters). Find the sentences in the text.\n",
    "\n",
    "● Save the distinct word dictionary as a JSON file (call it 'word_count_dict.json')  \n",
    "\n",
    "● Save the 4 hidden sentences together as a list of lists, then join them and print  \n",
    "them with a for loop\n",
    "\n",
    "● Remove the 4 hidden sentences from the original text file and save a clean  \n",
    "version of the first chapter of Frankenstein to a text file (call it\n",
    "'Clean_Frankenstein.txt')\n",
    "\n",
    "● Plot a histogram of the count of words by word length for all words in the document  "
   ]
  },
  {
   "cell_type": "markdown",
   "id": "f38ebbca",
   "metadata": {},
   "source": [
    "## After carefully reading the instructions, I have reordered them:\n",
    "\n",
    "### Part 1)\n",
    "\n",
    "First, take a look at the 4 sentences and removed them from the text.\n",
    "\n",
    "#### A) There are 4 sentences in this text, composed of words that are \"hidden\" (bookended by special characters). Find the sentences in the text.\n",
    "#### B) Save the 4 hidden sentences together as a list of lists, then join them and print them with a for loop\n",
    "#### C) Remove the 4 hidden sentences from the original text file and save a clean version of the first chapter of Frankenstein to a text file (call it 'Clean_Frankenstein.txt')\n",
    "\n",
    "### Part 2)\n",
    "Once I have removed the \"hidden\" sentences, we will have 'Clean_Frankenstein.txt' we would utilize that file for part 2 since otherwise we would include words from the hidden sentences\n",
    "\n",
    "#### D) Store all distinct words in the text in a dictionary and keep track of the word counts (make sure to strip all punctuation and lower the case of the words)\n",
    "#### E) Save the distinct word dictionary as a JSON file (call it 'word_count_dict.json')  \n",
    "#### F) Plot a histogram of the count of words by word length for all words in the document "
   ]
  },
  {
   "cell_type": "markdown",
   "id": "c8ce3e9c",
   "metadata": {},
   "source": [
    "Please find my Python Code below. I tried to maintain it as much as possible without removing or cleaning so that you see my way of thought"
   ]
  },
  {
   "cell_type": "code",
   "execution_count": 1,
   "id": "1690a98d",
   "metadata": {},
   "outputs": [],
   "source": [
    "import docx\n",
    "import itertools\n",
    "import re\n",
    "\n",
    "import pandas as pd\n",
    "import os\n",
    "import json\n",
    "from collections import Counter\n",
    "import matplotlib.pyplot as plt\n",
    "import numpy as np\n",
    "import pprint"
   ]
  },
  {
   "cell_type": "code",
   "execution_count": 2,
   "id": "240f874e",
   "metadata": {},
   "outputs": [
    {
     "data": {
      "text/plain": [
       "'C:\\\\Users\\\\caara\\\\iCloudDrive\\\\2021files\\\\DS\\\\Python\\\\scrapper\\\\test'"
      ]
     },
     "execution_count": 2,
     "metadata": {},
     "output_type": "execute_result"
    }
   ],
   "source": [
    "os.getcwd()"
   ]
  },
  {
   "cell_type": "code",
   "execution_count": 3,
   "id": "c9967a32",
   "metadata": {},
   "outputs": [],
   "source": [
    "fetch_challenge = docx.Document(\"Fetch Data Science Coding Challenge - Python.docx\")"
   ]
  },
  {
   "cell_type": "markdown",
   "id": "d6da860d",
   "metadata": {},
   "source": [
    "I will be using docx since we are scrapping the content from a local file (Word Document). There is no need to set up APIs for google drive or BeautifulSoup for web scrapping. This will help us preview the file by paragraph."
   ]
  },
  {
   "cell_type": "code",
   "execution_count": 4,
   "id": "f8db9f36",
   "metadata": {},
   "outputs": [
    {
     "name": "stdout",
     "output_type": "stream",
     "text": [
      "ssss\n",
      "----\n",
      "Fetch Data Science & Analytics (DSA) – Python Coding Challenge\n",
      "----\n",
      "\n",
      "----\n",
      "Background\n",
      "----\n",
      "Fetch Rewards’ most valued asset is an active, engaged and growing user base that interacts regularly with the app and keeps submitting receipts from their grocery purchase. They generate a ton of data that DSA leverages to create analytics solutions (ML models, dashboards, business analysis, etc.). SQL & Python are the languages we commonly use for that.  \n",
      "----\n",
      "Objective\n",
      "----\n",
      "Complete the below outlined, Python coding challenge. Plan to spend no more than 30-45mins overall. Approach matters more than the solution. \n",
      "----\n",
      "Problem Statement\n",
      "----\n",
      "In Python build a scraper that manipulates the associated text document (the first chapter of the book Frankenstein) to do the following:\n",
      "----\n",
      "Store all distinct words in the text in a dictionary and keep track of the word counts (make sure to strip all punctuation and lower the case of the words)\n",
      "----\n",
      "There are 4 sentences in this text, composed of words that are “hidden” (bookended by special characters). Find the sentences in the text.\n",
      "----\n",
      "Save the distinct word dictionary as a JSON file (call it 'word_count_dict.json')\n",
      "----\n",
      "Save the 4 hidden sentences together as a list of lists, then join them and print them with a for loop\n",
      "----\n",
      "Remove the 4 hidden sentences from the original text file and save a clean version of the first chapter of Frankenstein to a text file (call it 'Clean_Frankenstein.txt')\n",
      "----\n",
      "Plot a histogram of the count of words by word length for all words in the document\n",
      "----\n",
      "\n",
      "----\n",
      "Relevant Data: Included\n",
      "----\n",
      "Expected Output: Jupyter Notebook\n",
      "----\n",
      "\n",
      "----\n",
      "\n",
      "----\n",
      "\n",
      "----\n",
      "Text Data for Coding Challenge: frankenstein_chpt_1\n",
      "----\n",
      "“Letter 1\n",
      "----\n",
      "To Mrs. Saville, England. <Scrapers<\n",
      "----\n",
      "St. Petersburgh, Dec. 11th, 17—.\n",
      "----\n",
      "You will rejoice to hear that no disaster has accompanied the commencement of an enterprise which you have regarded with such evil forebodings. I arrived here yesterday, and my first task is to assure my $You$ dear sister of my welfare and increasing confidence in the success of my undertaking.\n",
      "----\n",
      "I am already far north of London, and as I walk in the streets of Petersburgh, I feel a cold northern breeze play upon my cheeks, which braces my nerves and fills me with delight. Do you understand this feeling? This breeze, which has travelled from the regions towards which I am advancing, gives me a foretaste of those icy climes. Inspirited by this wind of promise, my daydreams become more fervent and vivid. I try in vain to be persuaded that the pole is the seat of frost and desolation; it ever presents $are$ itself to my imagination as the region of beauty and delight. There, Margaret, the sun is for ever visible, its broad disk just skirting the horizon and diffusing a perpetual splendour. There—for with your leave, my sister, I will put some trust in preceding navigators—there snow and frost are banished; and, sailing over a calm sea, we may be wafted to a land surpassing *You're* in wonders and in beauty every region hitherto discovered on the habitable globe. Its productions and features may be without example, as the phenomena of the heavenly bodies undoubtedly are in those undiscovered solitudes. What may not be expected in a country of eternal light? I may there discover the wondrous power which attracts the needle and may regulate a thousand celestial observations that require only this voyage to render their seeming eccentricities consistent for ever. I shall satiate my ardent curiosity with the sight of a part of the world never before visited, and may tread a land never before imprinted by the foot of man. These are my enticements, and they are sufficient to conquer all fear of danger or death and to induce me to commence this laborious voyage with the joy a child feels when he embarks in a little boat, with his holiday mates, on an expedition of discovery up his native river. But supposing all these conjectures to be false, you cannot contest the inestimable benefit which I shall confer on all mankind, to the last generation, by discovering a passage near the pole to those countries, to reach which at present so many months are requisite; or by ascertaining the secret of the magnet, which, if at all possible, can only be effected by an undertaking such as mine.\n",
      "----\n",
      "These reflections have dispelled the agitation with which I began my letter, and I feel my heart glow with an enthusiasm which elevates me to heaven, for nothing contributes so much to tranquillise the mind as a steady purpose—a point on which the soul may fix its intellectual eye. This expedition has been the favourite dream of my early years. #Found# I have read with ardour the accounts of the various voyages which have been made in the prospect of arriving at the North Pacific Ocean through the seas which surround the pole. You may remember that a history of all the voyages made for purposes of discovery composed the whole of our good Uncle Thomas’ library. My education was neglected, yet I was passionately fond of reading. These volumes were my study day and night, and my familiarity with them increased that regret which I had felt, as a child, on learning that my father’s dying injunction had forbidden my uncle to allow me to embark in a seafaring life.\n",
      "----\n",
      "These visions faded when I perused, for the first time, those poets whose effusions entranced my soul and lifted it to heaven. I also became a poet and for one year lived in a paradise of my own creation; I imagined that I also might obtain a niche in the temple where the names of Homer and Shakespeare are consecrated. You are well acquainted with *killin* my failure and how heavily I bore the disappointment. But just at that time I inherited the fortune of my cousin, and my thoughts were turned into the channel of their earlier bent.\n",
      "----\n",
      "Six years have passed since I resolved on my present undertaking. I can, even now, remember the hour from which I dedicated myself to this great enterprise. I commenced by inuring my body to hardship. I accompanied the whale-fishers on several expeditions to the North Sea; I voluntarily endured cold, famine, thirst, and want of sleep; I often #another# worked harder than the common sailors during the day and devoted my nights to the study of mathematics, the theory of medicine, and those branches of physical science from which a naval adventurer might derive the greatest practical advantage. Twice I actually hired myself as an under-mate in a Greenland whaler, and acquitted myself to admiration. I must own I felt a little proud when my captain offered me the second dignity in the vessel and entreated me to remain with the greatest earnestness, so valuable did he consider my services.\n",
      "----\n",
      "And now, dear <for< Margaret, do I not deserve to accomplish some great purpose? My life might have been passed in ease and luxury, but I preferred glory to every enticement that wealth placed in my path. Oh, that some encouraging voice would answer in the affirmative! My courage and my resolution is firm; but my hopes fluctuate, and my spirits are often depressed. I am about to proceed on a long and difficult voyage, the emergencies of which will demand all my fortitude: I am required not only to raise the spirits of others, but sometimes to sustain my own, when theirs are failing.\n",
      "----\n",
      "This is the most favourable period for travelling in Russia. They fly quickly over the snow in their sledges; the motion is pleasant, and, in my opinion, far more agreeable than that of an English stagecoach. The $amazing!$ cold is not excessive, if you are wrapped in furs—a dress which I have already adopted, for there is a great difference between walking the deck and remaining seated motionless for hours, when no exercise prevents the blood from actually freezing in your veins. I have no ambition to lose my life on the post-road between St. Petersburgh and Archangel. <the<\n",
      "----\n",
      "I shall depart for the latter town in a fortnight or three weeks; and my intention is to hire a ship there, which can easily be done by paying the insurance for the owner, *it!* and to engage as many sailors as I think necessary among those who are accustomed to the whale-fishing. I do not intend to sail until the month of June; and when shall I return? Ah, dear sister, how can I answer this question? If I succeed, many, many months, perhaps years, will pass before you and I may meet. If I fail, you will see me again soon, or never.\n",
      "----\n",
      "Farewell, my dear, excellent Margaret. Heaven #one!# shower down blessings on you, and save me, that I may again and again testify my gratitude for all your love and kindness.\n",
      "----\n",
      "Your affectionate brother,\n",
      "----\n",
      "R. Walton<win!<”\n",
      "----\n",
      "\n",
      "----\n"
     ]
    }
   ],
   "source": [
    "text_lines = []\n",
    "for line in fetch_challenge.paragraphs:\n",
    "    print(line.text)\n",
    "    print(\"----\")\n",
    "    text_lines.append(line.text)\n",
    "    \"\\n\".join(text_lines)"
   ]
  },
  {
   "cell_type": "markdown",
   "id": "0c2003d2",
   "metadata": {},
   "source": [
    "I added --- so that we can distinguish the paragraphs. This way, we can only extract the text we care for from the docx file, which in this case is from Paragraph 22nd till the 36th"
   ]
  },
  {
   "cell_type": "code",
   "execution_count": 5,
   "id": "1d3f8ddc",
   "metadata": {},
   "outputs": [
    {
     "name": "stdout",
     "output_type": "stream",
     "text": [
      "['“Letter 1', 'To Mrs. Saville, England. <Scrapers<', 'St. Petersburgh, Dec. 11th, 17—.', 'You will rejoice to hear that no disaster has accompanied the commencement of an enterprise which you have regarded with such evil forebodings. I arrived here yesterday, and my first task is to assure my $You$ dear sister of my welfare and increasing confidence in the success of my undertaking.', \"I am already far north of London, and as I walk in the streets of Petersburgh, I feel a cold northern breeze play upon my cheeks, which braces my nerves and fills me with delight. Do you understand this feeling? This breeze, which has travelled from the regions towards which I am advancing, gives me a foretaste of those icy climes. Inspirited by this wind of promise, my daydreams become more fervent and vivid. I try in vain to be persuaded that the pole is the seat of frost and desolation; it ever presents $are$ itself to my imagination as the region of beauty and delight. There, Margaret, the sun is for ever visible, its broad disk just skirting the horizon and diffusing a perpetual splendour. There—for with your leave, my sister, I will put some trust in preceding navigators—there snow and frost are banished; and, sailing over a calm sea, we may be wafted to a land surpassing *You're* in wonders and in beauty every region hitherto discovered on the habitable globe. Its productions and features may be without example, as the phenomena of the heavenly bodies undoubtedly are in those undiscovered solitudes. What may not be expected in a country of eternal light? I may there discover the wondrous power which attracts the needle and may regulate a thousand celestial observations that require only this voyage to render their seeming eccentricities consistent for ever. I shall satiate my ardent curiosity with the sight of a part of the world never before visited, and may tread a land never before imprinted by the foot of man. These are my enticements, and they are sufficient to conquer all fear of danger or death and to induce me to commence this laborious voyage with the joy a child feels when he embarks in a little boat, with his holiday mates, on an expedition of discovery up his native river. But supposing all these conjectures to be false, you cannot contest the inestimable benefit which I shall confer on all mankind, to the last generation, by discovering a passage near the pole to those countries, to reach which at present so many months are requisite; or by ascertaining the secret of the magnet, which, if at all possible, can only be effected by an undertaking such as mine.\", 'These reflections have dispelled the agitation with which I began my letter, and I feel my heart glow with an enthusiasm which elevates me to heaven, for nothing contributes so much to tranquillise the mind as a steady purpose—a point on which the soul may fix its intellectual eye. This expedition has been the favourite dream of my early years. #Found# I have read with ardour the accounts of the various voyages which have been made in the prospect of arriving at the North Pacific Ocean through the seas which surround the pole. You may remember that a history of all the voyages made for purposes of discovery composed the whole of our good Uncle Thomas’ library. My education was neglected, yet I was passionately fond of reading. These volumes were my study day and night, and my familiarity with them increased that regret which I had felt, as a child, on learning that my father’s dying injunction had forbidden my uncle to allow me to embark in a seafaring life.', 'These visions faded when I perused, for the first time, those poets whose effusions entranced my soul and lifted it to heaven. I also became a poet and for one year lived in a paradise of my own creation; I imagined that I also might obtain a niche in the temple where the names of Homer and Shakespeare are consecrated. You are well acquainted with *killin* my failure and how heavily I bore the disappointment. But just at that time I inherited the fortune of my cousin, and my thoughts were turned into the channel of their earlier bent.', 'Six years have passed since I resolved on my present undertaking. I can, even now, remember the hour from which I dedicated myself to this great enterprise. I commenced by inuring my body to hardship. I accompanied the whale-fishers on several expeditions to the North Sea; I voluntarily endured cold, famine, thirst, and want of sleep; I often #another# worked harder than the common sailors during the day and devoted my nights to the study of mathematics, the theory of medicine, and those branches of physical science from which a naval adventurer might derive the greatest practical advantage. Twice I actually hired myself as an under-mate in a Greenland whaler, and acquitted myself to admiration. I must own I felt a little proud when my captain offered me the second dignity in the vessel and entreated me to remain with the greatest earnestness, so valuable did he consider my services.', 'And now, dear <for< Margaret, do I not deserve to accomplish some great purpose? My life might have been passed in ease and luxury, but I preferred glory to every enticement that wealth placed in my path. Oh, that some encouraging voice would answer in the affirmative! My courage and my resolution is firm; but my hopes fluctuate, and my spirits are often depressed. I am about to proceed on a long and difficult voyage, the emergencies of which will demand all my fortitude: I am required not only to raise the spirits of others, but sometimes to sustain my own, when theirs are failing.', 'This is the most favourable period for travelling in Russia. They fly quickly over the snow in their sledges; the motion is pleasant, and, in my opinion, far more agreeable than that of an English stagecoach. The $amazing!$ cold is not excessive, if you are wrapped in furs—a dress which I have already adopted, for there is a great difference between walking the deck and remaining seated motionless for hours, when no exercise prevents the blood from actually freezing in your veins. I have no ambition to lose my life on the post-road between St. Petersburgh and Archangel. <the<', 'I shall depart for the latter town in a fortnight or three weeks; and my intention is to hire a ship there, which can easily be done by paying the insurance for the owner, *it!* and to engage as many sailors as I think necessary among those who are accustomed to the whale-fishing. I do not intend to sail until the month of June; and when shall I return? Ah, dear sister, how can I answer this question? If I succeed, many, many months, perhaps years, will pass before you and I may meet. If I fail, you will see me again soon, or never.', 'Farewell, my dear, excellent Margaret. Heaven #one!# shower down blessings on you, and save me, that I may again and again testify my gratitude for all your love and kindness.', 'Your affectionate brother,', 'R. Walton<win!<”']\n"
     ]
    }
   ],
   "source": [
    "frankenstein_extract = text_lines[22:36]\n",
    "print(frankenstein_extract)"
   ]
  },
  {
   "cell_type": "markdown",
   "id": "67282b0f",
   "metadata": {},
   "source": [
    "The text above is what we are looking to analyze, so I will exclude everything else by making an extract."
   ]
  },
  {
   "cell_type": "code",
   "execution_count": 6,
   "id": "e5a66c75",
   "metadata": {},
   "outputs": [],
   "source": [
    "frankenstein_extract = \" \".join(frankenstein_extract)\n",
    "with open(\"frankenstein_extract.txt\", \"w\") as output:\n",
    "    output.write(str(frankenstein_extract))"
   ]
  },
  {
   "cell_type": "markdown",
   "id": "bcdb8e89",
   "metadata": {},
   "source": [
    "## Part 1:\n",
    "\n",
    "By scanning through the text, I realized that there are a couple of symbols that are getting my attention. So, I decided to isolate the following (\"$\")(\"<\")(\"#\")(\"*\")"
   ]
  },
  {
   "cell_type": "markdown",
   "id": "f4c00110",
   "metadata": {},
   "source": [
    "### A) There are 4 sentences in this text, composed of words that are \"hidden\" (bookended by special characters). Find the sentences in the text."
   ]
  },
  {
   "cell_type": "code",
   "execution_count": 7,
   "id": "543e71c2",
   "metadata": {},
   "outputs": [],
   "source": [
    "with open(\"frankenstein_extract.txt\") as f:\n",
    "    ans1 = []\n",
    "    for line in f:\n",
    "        matches = re.findall(r\"\\$\\S+\\$\", line)\n",
    "        ans1.extend(matches)\n",
    "with open(\"frankenstein_extract.txt\") as f:\n",
    "    ans2 = []\n",
    "    for line in f:\n",
    "        matches = re.findall(r\"\\<\\S+\\<\", line)\n",
    "        ans2.extend(matches)\n",
    "with open(\"frankenstein_extract.txt\") as f:\n",
    "    ans3 = []\n",
    "    for line in f:\n",
    "        matches = re.findall(r\"\\#\\S+\\#\", line)\n",
    "        ans3.extend(matches)\n",
    "with open(\"frankenstein_extract.txt\") as f:\n",
    "    ans4 = []\n",
    "    for line in f:\n",
    "        matches = re.findall(r\"\\*\\S+\\*\", line)\n",
    "        ans4.extend(matches)"
   ]
  },
  {
   "cell_type": "code",
   "execution_count": 8,
   "id": "d7d03a48",
   "metadata": {},
   "outputs": [
    {
     "data": {
      "text/plain": [
       "[('$You$', '<Scrapers<', '#Found#', \"*You're*\"),\n",
       " ('$are$', '<for<', '#another#', '*killin*'),\n",
       " ('$amazing!$', '<the<', '#one!#', '*it!*')]"
      ]
     },
     "execution_count": 8,
     "metadata": {},
     "output_type": "execute_result"
    }
   ],
   "source": [
    "list(zip(*[ans1, ans2, ans3, ans4]))"
   ]
  },
  {
   "cell_type": "code",
   "execution_count": 9,
   "id": "5c11570d",
   "metadata": {},
   "outputs": [
    {
     "name": "stdout",
     "output_type": "stream",
     "text": [
      "['You', 'are', 'amazing!']\n",
      "['Scrapers', 'for', 'the', 'win!']\n",
      "['Found', 'another', 'one!']\n",
      "[\"You're\", 'killin', 'it!']\n"
     ]
    }
   ],
   "source": [
    "sentence1 = [ans1.strip(\"$\") for ans1 in ans1]\n",
    "sentence2 = [ans2.strip(\"<\") for ans2 in ans2]\n",
    "sentence3 = [ans3.strip(\"#\") for ans3 in ans3]\n",
    "sentence4 = [ans4.strip(\"*\") for ans4 in ans4]\n",
    "print(list(sentence1))\n",
    "print(list(sentence2))\n",
    "print(list(sentence3))\n",
    "print(list(sentence4))"
   ]
  },
  {
   "cell_type": "markdown",
   "id": "b8cd0736",
   "metadata": {},
   "source": [
    "To store the unique words in the text, I will first remove then four hidden sentences. So, that we only count the words from Frankenstein."
   ]
  },
  {
   "cell_type": "code",
   "execution_count": 10,
   "id": "d55ddb67",
   "metadata": {},
   "outputs": [],
   "source": [
    "text_file = open(\"frankenstein_extract.txt\") # the extract we created"
   ]
  },
  {
   "cell_type": "code",
   "execution_count": 11,
   "id": "1fcfe953",
   "metadata": {},
   "outputs": [
    {
     "name": "stdout",
     "output_type": "stream",
     "text": [
      "['#Found#', '#another#', '#one!#', '$You$', '$amazing!$', '$are$', \"*You're*\", '*it!*', '*killin*', '1', '11th,', '17—.', '<Scrapers<', '<for<', '<the<', 'Ah,', 'And', 'Archangel.', 'But', 'Dec.', 'Do', 'England.', 'English', 'Farewell,', 'Greenland', 'Heaven', 'Homer', 'I', 'If', 'Inspirited', 'Its', 'June;', 'London,', 'Margaret,', 'Margaret.', 'Mrs.', 'My', 'North', 'Ocean', 'Oh,', 'Pacific', 'Petersburgh', 'Petersburgh,', 'R.', 'Russia.', 'Saville,', 'Sea;', 'Shakespeare', 'Six', 'St.', 'The', 'There,', 'There—for', 'These', 'They', 'This', 'Thomas’', 'To', 'Twice', 'Uncle', 'Walton<win!<”', 'What', 'You', 'Your', 'a', 'about', 'accompanied', 'accomplish', 'accounts', 'accustomed', 'acquainted', 'acquitted', 'actually', 'admiration.', 'adopted,', 'advancing,', 'advantage.', 'adventurer', 'affectionate', 'affirmative!', 'again', 'agitation', 'agreeable', 'all', 'allow', 'already', 'also', 'am', 'ambition', 'among', 'an', 'and', 'and,', 'answer', 'ardent', 'ardour', 'are', 'arrived', 'arriving', 'as', 'ascertaining', 'assure', 'at', 'attracts', 'banished;', 'be', 'beauty', 'became', 'become', 'been', 'before', 'began', 'benefit', 'bent.', 'between', 'blessings', 'blood', 'boat,', 'bodies', 'body', 'bore', 'braces', 'branches', 'breeze', 'breeze,', 'broad', 'brother,', 'but', 'by', 'calm', 'can', 'can,', 'cannot', 'captain', 'celestial', 'channel', 'cheeks,', 'child', 'child,', 'climes.', 'cold', 'cold,', 'commence', 'commenced', 'commencement', 'common', 'composed', 'confer', 'confidence', 'conjectures', 'conquer', 'consecrated.', 'consider', 'consistent', 'contest', 'contributes', 'countries,', 'country', 'courage', 'cousin,', 'creation;', 'curiosity', 'danger', 'day', 'daydreams', 'dear', 'dear,', 'death', 'deck', 'dedicated', 'delight.', 'demand', 'depart', 'depressed.', 'derive', 'deserve', 'desolation;', 'devoted', 'did', 'difference', 'difficult', 'diffusing', 'dignity', 'disappointment.', 'disaster', 'discover', 'discovered', 'discovering', 'discovery', 'disk', 'dispelled', 'do', 'done', 'down', 'dream', 'dress', 'during', 'dying', 'earlier', 'early', 'earnestness,', 'ease', 'easily', 'eccentricities', 'education', 'effected', 'effusions', 'elevates', 'embark', 'embarks', 'emergencies', 'encouraging', 'endured', 'engage', 'enterprise', 'enterprise.', 'enthusiasm', 'enticement', 'enticements,', 'entranced', 'entreated', 'eternal', 'even', 'ever', 'ever.', 'every', 'evil', 'example,', 'excellent', 'excessive,', 'exercise', 'expected', 'expedition', 'expeditions', 'eye.', 'faded', 'fail,', 'failing.', 'failure', 'false,', 'familiarity', 'famine,', 'far', 'father’s', 'favourable', 'favourite', 'fear', 'features', 'feel', 'feeling?', 'feels', 'felt', 'felt,', 'fervent', 'fills', 'firm;', 'first', 'fix', 'fluctuate,', 'fly', 'fond', 'foot', 'for', 'forbidden', 'forebodings.', 'foretaste', 'fortitude:', 'fortnight', 'fortune', 'freezing', 'from', 'frost', 'furs—a', 'generation,', 'gives', 'globe.', 'glory', 'glow', 'good', 'gratitude', 'great', 'greatest', 'habitable', 'had', 'harder', 'hardship.', 'has', 'have', 'he', 'hear', 'heart', 'heaven,', 'heaven.', 'heavenly', 'heavily', 'here', 'hire', 'hired', 'his', 'history', 'hitherto', 'holiday', 'hopes', 'horizon', 'hour', 'hours,', 'how', 'icy', 'if', 'imagination', 'imagined', 'imprinted', 'in', 'increased', 'increasing', 'induce', 'inestimable', 'inherited', 'injunction', 'insurance', 'intellectual', 'intend', 'intention', 'into', 'inuring', 'is', 'it', 'its', 'itself', 'joy', 'just', 'kindness.', 'laborious', 'land', 'last', 'latter', 'learning', 'leave,', 'letter,', 'library.', 'life', 'life.', 'lifted', 'light?', 'little', 'lived', 'long', 'lose', 'love', 'luxury,', 'made', 'magnet,', 'man.', 'mankind,', 'many', 'many,', 'mates,', 'mathematics,', 'may', 'me', 'me,', 'medicine,', 'meet.', 'might', 'mind', 'mine.', 'month', 'months', 'months,', 'more', 'most', 'motion', 'motionless', 'much', 'must', 'my', 'myself', 'names', 'native', 'naval', 'navigators—there', 'near', 'necessary', 'needle', 'neglected,', 'nerves', 'never', 'never.', 'niche', 'night,', 'nights', 'no', 'north', 'northern', 'not', 'nothing', 'now,', 'observations', 'obtain', 'of', 'offered', 'often', 'on', 'one', 'only', 'opinion,', 'or', 'others,', 'our', 'over', 'own', 'own,', 'owner,', 'paradise', 'part', 'pass', 'passage', 'passed', 'passionately', 'path.', 'paying', 'perhaps', 'period', 'perpetual', 'persuaded', 'perused,', 'phenomena', 'physical', 'placed', 'play', 'pleasant,', 'poet', 'poets', 'point', 'pole', 'pole.', 'possible,', 'post-road', 'power', 'practical', 'preceding', 'preferred', 'present', 'presents', 'prevents', 'proceed', 'productions', 'promise,', 'prospect', 'proud', 'purpose?', 'purposes', 'purpose—a', 'put', 'question?', 'quickly', 'raise', 'reach', 'read', 'reading.', 'reflections', 'regarded', 'region', 'regions', 'regret', 'regulate', 'rejoice', 'remain', 'remaining', 'remember', 'render', 'require', 'required', 'requisite;', 'resolution', 'resolved', 'return?', 'river.', 'sail', 'sailing', 'sailors', 'satiate', 'save', 'science', 'sea,', 'seafaring', 'seas', 'seat', 'seated', 'second', 'secret', 'see', 'seeming', 'services.', 'several', 'shall', 'ship', 'shower', 'sight', 'since', 'sister', 'sister,', 'skirting', 'sledges;', 'sleep;', 'snow', 'so', 'solitudes.', 'some', 'sometimes', 'soon,', 'soul', 'spirits', 'splendour.', 'stagecoach.', 'steady', 'streets', 'study', 'succeed,', 'success', 'such', 'sufficient', 'sun', 'supposing', 'surpassing', 'surround', 'sustain', 'task', 'temple', 'testify', 'than', 'that', 'the', 'their', 'theirs', 'them', 'theory', 'there', 'there,', 'these', 'they', 'think', 'thirst,', 'this', 'those', 'thoughts', 'thousand', 'three', 'through', 'time', 'time,', 'to', 'towards', 'town', 'tranquillise', 'travelled', 'travelling', 'tread', 'trust', 'try', 'turned', 'uncle', 'under-mate', 'understand', 'undertaking', 'undertaking.', 'undiscovered', 'undoubtedly', 'until', 'up', 'upon', 'vain', 'valuable', 'various', 'veins.', 'vessel', 'visible,', 'visions', 'visited,', 'vivid.', 'voice', 'volumes', 'voluntarily', 'voyage', 'voyage,', 'voyages', 'wafted', 'walk', 'walking', 'want', 'was', 'we', 'wealth', 'weeks;', 'welfare', 'well', 'were', 'whale-fishers', 'whale-fishing.', 'whaler,', 'when', 'where', 'which', 'which,', 'who', 'whole', 'whose', 'will', 'wind', 'with', 'without', 'wonders', 'wondrous', 'worked', 'world', 'would', 'wrapped', 'year', 'years', 'years,', 'years.', 'yesterday,', 'yet', 'you', 'you,', 'your', '“Letter']\n"
     ]
    }
   ],
   "source": [
    "text = text_file.read()\n",
    "words = text.split()\n",
    "\n",
    "unfiltered = []\n",
    "for word in words:\n",
    "    if word not in unfiltered:\n",
    "        unfiltered.append(word)\n",
    "unfiltered.sort()\n",
    "unfiltered = list(unfiltered)\n",
    "print(str(unfiltered))"
   ]
  },
  {
   "cell_type": "markdown",
   "id": "f5797fdb",
   "metadata": {},
   "source": [
    "### B) Save the 4 hidden sentences together as a list of lists, then join them and print them with a for loop"
   ]
  },
  {
   "cell_type": "markdown",
   "id": "36159bb3",
   "metadata": {},
   "source": [
    "utilizing itertools (the way I would have done it) "
   ]
  },
  {
   "cell_type": "code",
   "execution_count": 12,
   "id": "08a89b7b",
   "metadata": {},
   "outputs": [
    {
     "data": {
      "text/plain": [
       "[('$You$', '<Scrapers<', '#Found#', \"*You're*\"),\n",
       " ('$are$', '<for<', '#another#', '*killin*'),\n",
       " ('$amazing!$', '<the<', '#one!#', '*it!*')]"
      ]
     },
     "execution_count": 12,
     "metadata": {},
     "output_type": "execute_result"
    }
   ],
   "source": [
    "list(zip(*[ans1, ans2, ans3, ans4]))"
   ]
  },
  {
   "cell_type": "code",
   "execution_count": 13,
   "id": "4c66e0f4",
   "metadata": {},
   "outputs": [
    {
     "name": "stdout",
     "output_type": "stream",
     "text": [
      "['$You$', '$are$', '$amazing!$', '<Scrapers<', '<for<', '<the<', '<win!<', '#Found#', '#another#', '#one!#', \"*You're*\", '*killin*', '*it!*']\n"
     ]
    }
   ],
   "source": [
    "remove_list = itertools.chain(ans1, ans2, ans3, ans4)\n",
    "remove_list = list(remove_list)\n",
    "print(remove_list)"
   ]
  },
  {
   "cell_type": "markdown",
   "id": "931069bb",
   "metadata": {},
   "source": [
    "Since it suggested to join them with a for loop: "
   ]
  },
  {
   "cell_type": "code",
   "execution_count": 14,
   "id": "fa311d09",
   "metadata": {},
   "outputs": [
    {
     "name": "stdout",
     "output_type": "stream",
     "text": [
      "['$You$', '$are$', '$amazing!$', '<Scrapers<', '<for<', '<the<', '<win!<', '#Found#', '#another#', '#one!#', \"*You're*\", '*killin*', '*it!*']\n"
     ]
    }
   ],
   "source": [
    "res_list = [y for x in [ans1, ans2, ans3, ans4] for y in x]\n",
    "print(res_list)"
   ]
  },
  {
   "cell_type": "markdown",
   "id": "c287d90a",
   "metadata": {},
   "source": [
    "remove_list solving through itertools is equivalent to solving it with a for loop res_list (remove_list = res_list)"
   ]
  },
  {
   "cell_type": "markdown",
   "id": "6238069a",
   "metadata": {},
   "source": [
    "### C) Remove the 4 hidden sentences from the original text file and save a clean version of the first chapter of Frankenstein to a text file (call it 'Clean_Frankenstein.txt')"
   ]
  },
  {
   "cell_type": "code",
   "execution_count": 15,
   "id": "4d09b7d8",
   "metadata": {},
   "outputs": [],
   "source": [
    "infile = \"frankenstein_extract.txt\"\n",
    "outfile = \"clean_frankenstein.txt\""
   ]
  },
  {
   "cell_type": "code",
   "execution_count": 16,
   "id": "727c4fef",
   "metadata": {},
   "outputs": [],
   "source": [
    "# remove_list\n",
    "with open(infile) as fin, open(outfile, \"w+\") as fout:\n",
    "    for line in fin:\n",
    "        for word in remove_list:\n",
    "            line = line.replace(word, \"\")\n",
    "        fout.write(line)"
   ]
  },
  {
   "cell_type": "code",
   "execution_count": 17,
   "id": "1bda5af4",
   "metadata": {},
   "outputs": [
    {
     "name": "stdout",
     "output_type": "stream",
     "text": [
      "“Letter 1 To Mrs. Saville, England.  St. Petersburgh, Dec. 11th, 17—. You will rejoice to hear that no disaster has accompanied the commencement of an enterprise which you have regarded with such evil forebodings. I arrived here yesterday, and my first task is to assure my  dear sister of my welfare and increasing confidence in the success of my undertaking. I am already far north of London, and as I walk in the streets of Petersburgh, I feel a cold northern breeze play upon my cheeks, which braces my nerves and fills me with delight. Do you understand this feeling? This breeze, which has travelled from the regions towards which I am advancing, gives me a foretaste of those icy climes. Inspirited by this wind of promise, my daydreams become more fervent and vivid. I try in vain to be persuaded that the pole is the seat of frost and desolation; it ever presents  itself to my imagination as the region of beauty and delight. There, Margaret, the sun is for ever visible, its broad disk just skirting the horizon and diffusing a perpetual splendour. There—for with your leave, my sister, I will put some trust in preceding navigators—there snow and frost are banished; and, sailing over a calm sea, we may be wafted to a land surpassing  in wonders and in beauty every region hitherto discovered on the habitable globe. Its productions and features may be without example, as the phenomena of the heavenly bodies undoubtedly are in those undiscovered solitudes. What may not be expected in a country of eternal light? I may there discover the wondrous power which attracts the needle and may regulate a thousand celestial observations that require only this voyage to render their seeming eccentricities consistent for ever. I shall satiate my ardent curiosity with the sight of a part of the world never before visited, and may tread a land never before imprinted by the foot of man. These are my enticements, and they are sufficient to conquer all fear of danger or death and to induce me to commence this laborious voyage with the joy a child feels when he embarks in a little boat, with his holiday mates, on an expedition of discovery up his native river. But supposing all these conjectures to be false, you cannot contest the inestimable benefit which I shall confer on all mankind, to the last generation, by discovering a passage near the pole to those countries, to reach which at present so many months are requisite; or by ascertaining the secret of the magnet, which, if at all possible, can only be effected by an undertaking such as mine. These reflections have dispelled the agitation with which I began my letter, and I feel my heart glow with an enthusiasm which elevates me to heaven, for nothing contributes so much to tranquillise the mind as a steady purpose—a point on which the soul may fix its intellectual eye. This expedition has been the favourite dream of my early years.  I have read with ardour the accounts of the various voyages which have been made in the prospect of arriving at the North Pacific Ocean through the seas which surround the pole. You may remember that a history of all the voyages made for purposes of discovery composed the whole of our good Uncle Thomas’ library. My education was neglected, yet I was passionately fond of reading. These volumes were my study day and night, and my familiarity with them increased that regret which I had felt, as a child, on learning that my father’s dying injunction had forbidden my uncle to allow me to embark in a seafaring life. These visions faded when I perused, for the first time, those poets whose effusions entranced my soul and lifted it to heaven. I also became a poet and for one year lived in a paradise of my own creation; I imagined that I also might obtain a niche in the temple where the names of Homer and Shakespeare are consecrated. You are well acquainted with  my failure and how heavily I bore the disappointment. But just at that time I inherited the fortune of my cousin, and my thoughts were turned into the channel of their earlier bent. Six years have passed since I resolved on my present undertaking. I can, even now, remember the hour from which I dedicated myself to this great enterprise. I commenced by inuring my body to hardship. I accompanied the whale-fishers on several expeditions to the North Sea; I voluntarily endured cold, famine, thirst, and want of sleep; I often  worked harder than the common sailors during the day and devoted my nights to the study of mathematics, the theory of medicine, and those branches of physical science from which a naval adventurer might derive the greatest practical advantage. Twice I actually hired myself as an under-mate in a Greenland whaler, and acquitted myself to admiration. I must own I felt a little proud when my captain offered me the second dignity in the vessel and entreated me to remain with the greatest earnestness, so valuable did he consider my services. And now, dear  Margaret, do I not deserve to accomplish some great purpose? My life might have been passed in ease and luxury, but I preferred glory to every enticement that wealth placed in my path. Oh, that some encouraging voice would answer in the affirmative! My courage and my resolution is firm; but my hopes fluctuate, and my spirits are often depressed. I am about to proceed on a long and difficult voyage, the emergencies of which will demand all my fortitude: I am required not only to raise the spirits of others, but sometimes to sustain my own, when theirs are failing. This is the most favourable period for travelling in Russia. They fly quickly over the snow in their sledges; the motion is pleasant, and, in my opinion, far more agreeable than that of an English stagecoach. The  cold is not excessive, if you are wrapped in furs—a dress which I have already adopted, for there is a great difference between walking the deck and remaining seated motionless for hours, when no exercise prevents the blood from actually freezing in your veins. I have no ambition to lose my life on the post-road between St. Petersburgh and Archangel.  I shall depart for the latter town in a fortnight or three weeks; and my intention is to hire a ship there, which can easily be done by paying the insurance for the owner,  and to engage as many sailors as I think necessary among those who are accustomed to the whale-fishing. I do not intend to sail until the month of June; and when shall I return? Ah, dear sister, how can I answer this question? If I succeed, many, many months, perhaps years, will pass before you and I may meet. If I fail, you will see me again soon, or never. Farewell, my dear, excellent Margaret. Heaven  shower down blessings on you, and save me, that I may again and again testify my gratitude for all your love and kindness. Your affectionate brother, R. Walton”\n"
     ]
    }
   ],
   "source": [
    "clean_frankenstein = open(\"clean_frankenstein.txt\")\n",
    "lines = clean_frankenstein.readlines()\n",
    "for line in lines:\n",
    "    print(line)\n",
    "clean_frankenstein.close()"
   ]
  },
  {
   "cell_type": "markdown",
   "id": "0e4b8364",
   "metadata": {},
   "source": [
    "## Part 2)"
   ]
  },
  {
   "cell_type": "markdown",
   "id": "154b83c7",
   "metadata": {},
   "source": [
    "Now that we have removed the hidden sentences, we want to do a clean-up of the text \"unfiltered.\""
   ]
  },
  {
   "cell_type": "code",
   "execution_count": 18,
   "id": "2dc6ad0f",
   "metadata": {},
   "outputs": [
    {
     "name": "stdout",
     "output_type": "stream",
     "text": [
      "['1', '11th,', '17—.', 'Ah,', 'And', 'Archangel.', 'But', 'Dec.', 'Do', 'England.', 'English', 'Farewell,', 'Greenland', 'Heaven', 'Homer', 'I', 'If', 'Inspirited', 'Its', 'June;', 'London,', 'Margaret,', 'Margaret.', 'Mrs.', 'My', 'North', 'Ocean', 'Oh,', 'Pacific', 'Petersburgh', 'Petersburgh,', 'R.', 'Russia.', 'Saville,', 'Sea;', 'Shakespeare', 'Six', 'St.', 'The', 'There,', 'There—for', 'These', 'They', 'This', 'Thomas’', 'To', 'Twice', 'Uncle', 'Walton<win!<”', 'What', 'You', 'Your', 'a', 'about', 'accompanied', 'accomplish', 'accounts', 'accustomed', 'acquainted', 'acquitted', 'actually', 'admiration.', 'adopted,', 'advancing,', 'advantage.', 'adventurer', 'affectionate', 'affirmative!', 'again', 'agitation', 'agreeable', 'all', 'allow', 'already', 'also', 'am', 'ambition', 'among', 'an', 'and', 'and,', 'answer', 'ardent', 'ardour', 'are', 'arrived', 'arriving', 'as', 'ascertaining', 'assure', 'at', 'attracts', 'banished;', 'be', 'beauty', 'became', 'become', 'been', 'before', 'began', 'benefit', 'bent.', 'between', 'blessings', 'blood', 'boat,', 'bodies', 'body', 'bore', 'braces', 'branches', 'breeze', 'breeze,', 'broad', 'brother,', 'but', 'by', 'calm', 'can', 'can,', 'cannot', 'captain', 'celestial', 'channel', 'cheeks,', 'child', 'child,', 'climes.', 'cold', 'cold,', 'commence', 'commenced', 'commencement', 'common', 'composed', 'confer', 'confidence', 'conjectures', 'conquer', 'consecrated.', 'consider', 'consistent', 'contest', 'contributes', 'countries,', 'country', 'courage', 'cousin,', 'creation;', 'curiosity', 'danger', 'day', 'daydreams', 'dear', 'dear,', 'death', 'deck', 'dedicated', 'delight.', 'demand', 'depart', 'depressed.', 'derive', 'deserve', 'desolation;', 'devoted', 'did', 'difference', 'difficult', 'diffusing', 'dignity', 'disappointment.', 'disaster', 'discover', 'discovered', 'discovering', 'discovery', 'disk', 'dispelled', 'do', 'done', 'down', 'dream', 'dress', 'during', 'dying', 'earlier', 'early', 'earnestness,', 'ease', 'easily', 'eccentricities', 'education', 'effected', 'effusions', 'elevates', 'embark', 'embarks', 'emergencies', 'encouraging', 'endured', 'engage', 'enterprise', 'enterprise.', 'enthusiasm', 'enticement', 'enticements,', 'entranced', 'entreated', 'eternal', 'even', 'ever', 'ever.', 'every', 'evil', 'example,', 'excellent', 'excessive,', 'exercise', 'expected', 'expedition', 'expeditions', 'eye.', 'faded', 'fail,', 'failing.', 'failure', 'false,', 'familiarity', 'famine,', 'far', 'father’s', 'favourable', 'favourite', 'fear', 'features', 'feel', 'feeling?', 'feels', 'felt', 'felt,', 'fervent', 'fills', 'firm;', 'first', 'fix', 'fluctuate,', 'fly', 'fond', 'foot', 'for', 'forbidden', 'forebodings.', 'foretaste', 'fortitude:', 'fortnight', 'fortune', 'freezing', 'from', 'frost', 'furs—a', 'generation,', 'gives', 'globe.', 'glory', 'glow', 'good', 'gratitude', 'great', 'greatest', 'habitable', 'had', 'harder', 'hardship.', 'has', 'have', 'he', 'hear', 'heart', 'heaven,', 'heaven.', 'heavenly', 'heavily', 'here', 'hire', 'hired', 'his', 'history', 'hitherto', 'holiday', 'hopes', 'horizon', 'hour', 'hours,', 'how', 'icy', 'if', 'imagination', 'imagined', 'imprinted', 'in', 'increased', 'increasing', 'induce', 'inestimable', 'inherited', 'injunction', 'insurance', 'intellectual', 'intend', 'intention', 'into', 'inuring', 'is', 'it', 'its', 'itself', 'joy', 'just', 'kindness.', 'laborious', 'land', 'last', 'latter', 'learning', 'leave,', 'letter,', 'library.', 'life', 'life.', 'lifted', 'light?', 'little', 'lived', 'long', 'lose', 'love', 'luxury,', 'made', 'magnet,', 'man.', 'mankind,', 'many', 'many,', 'mates,', 'mathematics,', 'may', 'me', 'me,', 'medicine,', 'meet.', 'might', 'mind', 'mine.', 'month', 'months', 'months,', 'more', 'most', 'motion', 'motionless', 'much', 'must', 'my', 'myself', 'names', 'native', 'naval', 'navigators—there', 'near', 'necessary', 'needle', 'neglected,', 'nerves', 'never', 'never.', 'niche', 'night,', 'nights', 'no', 'north', 'northern', 'not', 'nothing', 'now,', 'observations', 'obtain', 'of', 'offered', 'often', 'on', 'one', 'only', 'opinion,', 'or', 'others,', 'our', 'over', 'own', 'own,', 'owner,', 'paradise', 'part', 'pass', 'passage', 'passed', 'passionately', 'path.', 'paying', 'perhaps', 'period', 'perpetual', 'persuaded', 'perused,', 'phenomena', 'physical', 'placed', 'play', 'pleasant,', 'poet', 'poets', 'point', 'pole', 'pole.', 'possible,', 'post-road', 'power', 'practical', 'preceding', 'preferred', 'present', 'presents', 'prevents', 'proceed', 'productions', 'promise,', 'prospect', 'proud', 'purpose?', 'purposes', 'purpose—a', 'put', 'question?', 'quickly', 'raise', 'reach', 'read', 'reading.', 'reflections', 'regarded', 'region', 'regions', 'regret', 'regulate', 'rejoice', 'remain', 'remaining', 'remember', 'render', 'require', 'required', 'requisite;', 'resolution', 'resolved', 'return?', 'river.', 'sail', 'sailing', 'sailors', 'satiate', 'save', 'science', 'sea,', 'seafaring', 'seas', 'seat', 'seated', 'second', 'secret', 'see', 'seeming', 'services.', 'several', 'shall', 'ship', 'shower', 'sight', 'since', 'sister', 'sister,', 'skirting', 'sledges;', 'sleep;', 'snow', 'so', 'solitudes.', 'some', 'sometimes', 'soon,', 'soul', 'spirits', 'splendour.', 'stagecoach.', 'steady', 'streets', 'study', 'succeed,', 'success', 'such', 'sufficient', 'sun', 'supposing', 'surpassing', 'surround', 'sustain', 'task', 'temple', 'testify', 'than', 'that', 'the', 'their', 'theirs', 'them', 'theory', 'there', 'there,', 'these', 'they', 'think', 'thirst,', 'this', 'those', 'thoughts', 'thousand', 'three', 'through', 'time', 'time,', 'to', 'towards', 'town', 'tranquillise', 'travelled', 'travelling', 'tread', 'trust', 'try', 'turned', 'uncle', 'under-mate', 'understand', 'undertaking', 'undertaking.', 'undiscovered', 'undoubtedly', 'until', 'up', 'upon', 'vain', 'valuable', 'various', 'veins.', 'vessel', 'visible,', 'visions', 'visited,', 'vivid.', 'voice', 'volumes', 'voluntarily', 'voyage', 'voyage,', 'voyages', 'wafted', 'walk', 'walking', 'want', 'was', 'we', 'wealth', 'weeks;', 'welfare', 'well', 'were', 'whale-fishers', 'whale-fishing.', 'whaler,', 'when', 'where', 'which', 'which,', 'who', 'whole', 'whose', 'will', 'wind', 'with', 'without', 'wonders', 'wondrous', 'worked', 'world', 'would', 'wrapped', 'year', 'years', 'years,', 'years.', 'yesterday,', 'yet', 'you', 'you,', 'your', '“Letter']\n"
     ]
    }
   ],
   "source": [
    "# using lambda to perform task\n",
    "res = [i for i in unfiltered if i not in remove_list]\n",
    "unfiltered = str(res)\n",
    "print(unfiltered)"
   ]
  },
  {
   "cell_type": "code",
   "execution_count": 19,
   "id": "75fd26fa",
   "metadata": {},
   "outputs": [],
   "source": [
    "unfiltered = unfiltered.lower()\n",
    "filtered_words = unfiltered.split()"
   ]
  },
  {
   "cell_type": "code",
   "execution_count": 20,
   "id": "3bfc1357",
   "metadata": {},
   "outputs": [
    {
     "name": "stdout",
     "output_type": "stream",
     "text": [
      "['1', '11th', '17', 'ah', 'and', 'archangel', 'but', 'dec', 'do', 'england', 'english', 'farewell', 'greenland', 'heaven', 'homer', 'i', 'if', 'inspirited', 'its', 'june', 'london', 'margaret', 'margaret', 'mrs', 'my', 'north', 'ocean', 'oh', 'pacific', 'petersburgh', 'petersburgh', 'r', 'russia', 'saville', 'sea', 'shakespeare', 'six', 'st', 'the', 'there', 'therefor', 'these', 'they', 'this', 'thomas', 'to', 'twice', 'uncle', 'walton<win!<', 'what', 'you', 'your', 'a', 'about', 'accompanied', 'accomplish', 'accounts', 'accustomed', 'acquainted', 'acquitted', 'actually', 'admiration', 'adopted', 'advancing', 'advantage', 'adventurer', 'affectionate', 'affirmative', 'again', 'agitation', 'agreeable', 'all', 'allow', 'already', 'also', 'am', 'ambition', 'among', 'an', 'and', 'and', 'answer', 'ardent', 'ardour', 'are', 'arrived', 'arriving', 'as', 'ascertaining', 'assure', 'at', 'attracts', 'banished', 'be', 'beauty', 'became', 'become', 'been', 'before', 'began', 'benefit', 'bent', 'between', 'blessings', 'blood', 'boat', 'bodies', 'body', 'bore', 'braces', 'branches', 'breeze', 'breeze', 'broad', 'brother', 'but', 'by', 'calm', 'can', 'can', 'cannot', 'captain', 'celestial', 'channel', 'cheeks', 'child', 'child', 'climes', 'cold', 'cold', 'commence', 'commenced', 'commencement', 'common', 'composed', 'confer', 'confidence', 'conjectures', 'conquer', 'consecrated', 'consider', 'consistent', 'contest', 'contributes', 'countries', 'country', 'courage', 'cousin', 'creation', 'curiosity', 'danger', 'day', 'daydreams', 'dear', 'dear', 'death', 'deck', 'dedicated', 'delight', 'demand', 'depart', 'depressed', 'derive', 'deserve', 'desolation', 'devoted', 'did', 'difference', 'difficult', 'diffusing', 'dignity', 'disappointment', 'disaster', 'discover', 'discovered', 'discovering', 'discovery', 'disk', 'dispelled', 'do', 'done', 'down', 'dream', 'dress', 'during', 'dying', 'earlier', 'early', 'earnestness', 'ease', 'easily', 'eccentricities', 'education', 'effected', 'effusions', 'elevates', 'embark', 'embarks', 'emergencies', 'encouraging', 'endured', 'engage', 'enterprise', 'enterprise', 'enthusiasm', 'enticement', 'enticements', 'entranced', 'entreated', 'eternal', 'even', 'ever', 'ever', 'every', 'evil', 'example', 'excellent', 'excessive', 'exercise', 'expected', 'expedition', 'expeditions', 'eye', 'faded', 'fail', 'failing', 'failure', 'false', 'familiarity', 'famine', 'far', 'father', 'favourable', 'favourite', 'fear', 'features', 'feel', 'feeling', 'feels', 'felt', 'felt', 'fervent', 'fills', 'firm', 'first', 'fix', 'fluctuate', 'fly', 'fond', 'foot', 'for', 'forbidden', 'forebodings', 'foretaste', 'fortitude:', 'fortnight', 'fortune', 'freezing', 'from', 'frost', 'fursa', 'generation', 'gives', 'globe', 'glory', 'glow', 'good', 'gratitude', 'great', 'greatest', 'habitable', 'had', 'harder', 'hardship', 'has', 'have', 'he', 'hear', 'heart', 'heaven', 'heaven', 'heavenly', 'heavily', 'here', 'hire', 'hired', 'his', 'history', 'hitherto', 'holiday', 'hopes', 'horizon', 'hour', 'hours', 'how', 'icy', 'if', 'imagination', 'imagined', 'imprinted', 'in', 'increased', 'increasing', 'induce', 'inestimable', 'inherited', 'injunction', 'insurance', 'intellectual', 'intend', 'intention', 'into', 'inuring', 'is', 'it', 'its', 'itself', 'joy', 'just', 'kindness', 'laborious', 'land', 'last', 'latter', 'learning', 'leave', 'letter', 'library', 'life', 'life', 'lifted', 'light', 'little', 'lived', 'long', 'lose', 'love', 'luxury', 'made', 'magnet', 'man', 'mankind', 'many', 'many', 'mates', 'mathematics', 'may', 'me', 'me', 'medicine', 'meet', 'might', 'mind', 'mine', 'month', 'months', 'months', 'more', 'most', 'motion', 'motionless', 'much', 'must', 'my', 'myself', 'names', 'native', 'naval', 'navigatorsthere', 'near', 'necessary', 'needle', 'neglected', 'nerves', 'never', 'never', 'niche', 'night', 'nights', 'no', 'north', 'northern', 'not', 'nothing', 'now', 'observations', 'obtain', 'of', 'offered', 'often', 'on', 'one', 'only', 'opinion', 'or', 'others', 'our', 'over', 'own', 'own', 'owner', 'paradise', 'part', 'pass', 'passage', 'passed', 'passionately', 'path', 'paying', 'perhaps', 'period', 'perpetual', 'persuaded', 'perused', 'phenomena', 'physical', 'placed', 'play', 'pleasant', 'poet', 'poets', 'point', 'pole', 'pole', 'possible', 'postroad', 'power', 'practical', 'preceding', 'preferred', 'present', 'presents', 'prevents', 'proceed', 'productions', 'promise', 'prospect', 'proud', 'purpose', 'purposes', 'purposea', 'put', 'question', 'quickly', 'raise', 'reach', 'read', 'reading', 'reflections', 'regarded', 'region', 'regions', 'regret', 'regulate', 'rejoice', 'remain', 'remaining', 'remember', 'render', 'require', 'required', 'requisite', 'resolution', 'resolved', 'return', 'river', 'sail', 'sailing', 'sailors', 'satiate', 'save', 'science', 'sea', 'seafaring', 'seas', 'seat', 'seated', 'second', 'secret', 'see', 'seeming', 'services', 'several', 'shall', 'ship', 'shower', 'sight', 'since', 'sister', 'sister', 'skirting', 'sledges', 'sleep', 'snow', 'so', 'solitudes', 'some', 'sometimes', 'soon', 'soul', 'spirits', 'splendour', 'stagecoach', 'steady', 'streets', 'study', 'succeed', 'success', 'such', 'sufficient', 'sun', 'supposing', 'surpassing', 'surround', 'sustain', 'task', 'temple', 'testify', 'than', 'that', 'the', 'their', 'theirs', 'them', 'theory', 'there', 'there', 'these', 'they', 'think', 'thirst', 'this', 'those', 'thoughts', 'thousand', 'three', 'through', 'time', 'time', 'to', 'towards', 'town', 'tranquillise', 'travelled', 'travelling', 'tread', 'trust', 'try', 'turned', 'uncle', 'undermate', 'understand', 'undertaking', 'undertaking', 'undiscovered', 'undoubtedly', 'until', 'up', 'upon', 'vain', 'valuable', 'various', 'veins', 'vessel', 'visible', 'visions', 'visited', 'vivid', 'voice', 'volumes', 'voluntarily', 'voyage', 'voyage', 'voyages', 'wafted', 'walk', 'walking', 'want', 'was', 'we', 'wealth', 'weeks', 'welfare', 'well', 'were', 'whalefishers', 'whalefishing', 'whaler', 'when', 'where', 'which', 'which', 'who', 'whole', 'whose', 'will', 'wind', 'with', 'without', 'wonders', 'wondrous', 'worked', 'world', 'would', 'wrapped', 'year', 'years', 'years', 'years', 'yesterday', 'yet', 'you', 'you', 'your', 'letter']\n"
     ]
    }
   ],
   "source": [
    "filtered_words = [word.replace(\"—\", \"\").replace(\"-\", \"\") for word in filtered_words]\n",
    "filtered_words = [word.replace(\"’s\", \"\") for word in filtered_words]\n",
    "filtered_words = [word.replace(\"'\", \"\")for word in filtered_words]\n",
    "filtered_words = [word.strip(\".,!?;()[]--—“”’\") for word in filtered_words]\n",
    "print(filtered_words)"
   ]
  },
  {
   "cell_type": "markdown",
   "id": "64dd4ef6",
   "metadata": {},
   "source": [
    "### D) Store all distinct words in the text in a dictionary and keep track of the word counts (make sure to strip all punctuation and lower the case of the words)"
   ]
  },
  {
   "cell_type": "code",
   "execution_count": 21,
   "id": "8d875b8b",
   "metadata": {
    "scrolled": true
   },
   "outputs": [
    {
     "name": "stdout",
     "output_type": "stream",
     "text": [
      "{'1': 1, '11th': 1, '17': 1, 'ah': 1, 'and': 3, 'archangel': 1, 'but': 2, 'dec': 1, 'do': 2, 'england': 1, 'english': 1, 'farewell': 1, 'greenland': 1, 'heaven': 3, 'homer': 1, 'i': 1, 'if': 2, 'inspirited': 1, 'its': 2, 'june': 1, 'london': 1, 'margaret': 2, 'mrs': 1, 'my': 2, 'north': 2, 'ocean': 1, 'oh': 1, 'pacific': 1, 'petersburgh': 2, 'r': 1, 'russia': 1, 'saville': 1, 'sea': 2, 'shakespeare': 1, 'six': 1, 'st': 1, 'the': 2, 'there': 3, 'therefor': 1, 'these': 2, 'they': 2, 'this': 2, 'thomas': 1, 'to': 2, 'twice': 1, 'uncle': 2, 'walton<win!<': 1, 'what': 1, 'you': 3, 'your': 2, 'a': 1, 'about': 1, 'accompanied': 1, 'accomplish': 1, 'accounts': 1, 'accustomed': 1, 'acquainted': 1, 'acquitted': 1, 'actually': 1, 'admiration': 1, 'adopted': 1, 'advancing': 1, 'advantage': 1, 'adventurer': 1, 'affectionate': 1, 'affirmative': 1, 'again': 1, 'agitation': 1, 'agreeable': 1, 'all': 1, 'allow': 1, 'already': 1, 'also': 1, 'am': 1, 'ambition': 1, 'among': 1, 'an': 1, 'answer': 1, 'ardent': 1, 'ardour': 1, 'are': 1, 'arrived': 1, 'arriving': 1, 'as': 1, 'ascertaining': 1, 'assure': 1, 'at': 1, 'attracts': 1, 'banished': 1, 'be': 1, 'beauty': 1, 'became': 1, 'become': 1, 'been': 1, 'before': 1, 'began': 1, 'benefit': 1, 'bent': 1, 'between': 1, 'blessings': 1, 'blood': 1, 'boat': 1, 'bodies': 1, 'body': 1, 'bore': 1, 'braces': 1, 'branches': 1, 'breeze': 2, 'broad': 1, 'brother': 1, 'by': 1, 'calm': 1, 'can': 2, 'cannot': 1, 'captain': 1, 'celestial': 1, 'channel': 1, 'cheeks': 1, 'child': 2, 'climes': 1, 'cold': 2, 'commence': 1, 'commenced': 1, 'commencement': 1, 'common': 1, 'composed': 1, 'confer': 1, 'confidence': 1, 'conjectures': 1, 'conquer': 1, 'consecrated': 1, 'consider': 1, 'consistent': 1, 'contest': 1, 'contributes': 1, 'countries': 1, 'country': 1, 'courage': 1, 'cousin': 1, 'creation': 1, 'curiosity': 1, 'danger': 1, 'day': 1, 'daydreams': 1, 'dear': 2, 'death': 1, 'deck': 1, 'dedicated': 1, 'delight': 1, 'demand': 1, 'depart': 1, 'depressed': 1, 'derive': 1, 'deserve': 1, 'desolation': 1, 'devoted': 1, 'did': 1, 'difference': 1, 'difficult': 1, 'diffusing': 1, 'dignity': 1, 'disappointment': 1, 'disaster': 1, 'discover': 1, 'discovered': 1, 'discovering': 1, 'discovery': 1, 'disk': 1, 'dispelled': 1, 'done': 1, 'down': 1, 'dream': 1, 'dress': 1, 'during': 1, 'dying': 1, 'earlier': 1, 'early': 1, 'earnestness': 1, 'ease': 1, 'easily': 1, 'eccentricities': 1, 'education': 1, 'effected': 1, 'effusions': 1, 'elevates': 1, 'embark': 1, 'embarks': 1, 'emergencies': 1, 'encouraging': 1, 'endured': 1, 'engage': 1, 'enterprise': 2, 'enthusiasm': 1, 'enticement': 1, 'enticements': 1, 'entranced': 1, 'entreated': 1, 'eternal': 1, 'even': 1, 'ever': 2, 'every': 1, 'evil': 1, 'example': 1, 'excellent': 1, 'excessive': 1, 'exercise': 1, 'expected': 1, 'expedition': 1, 'expeditions': 1, 'eye': 1, 'faded': 1, 'fail': 1, 'failing': 1, 'failure': 1, 'false': 1, 'familiarity': 1, 'famine': 1, 'far': 1, 'father': 1, 'favourable': 1, 'favourite': 1, 'fear': 1, 'features': 1, 'feel': 1, 'feeling': 1, 'feels': 1, 'felt': 2, 'fervent': 1, 'fills': 1, 'firm': 1, 'first': 1, 'fix': 1, 'fluctuate': 1, 'fly': 1, 'fond': 1, 'foot': 1, 'for': 1, 'forbidden': 1, 'forebodings': 1, 'foretaste': 1, 'fortitude:': 1, 'fortnight': 1, 'fortune': 1, 'freezing': 1, 'from': 1, 'frost': 1, 'fursa': 1, 'generation': 1, 'gives': 1, 'globe': 1, 'glory': 1, 'glow': 1, 'good': 1, 'gratitude': 1, 'great': 1, 'greatest': 1, 'habitable': 1, 'had': 1, 'harder': 1, 'hardship': 1, 'has': 1, 'have': 1, 'he': 1, 'hear': 1, 'heart': 1, 'heavenly': 1, 'heavily': 1, 'here': 1, 'hire': 1, 'hired': 1, 'his': 1, 'history': 1, 'hitherto': 1, 'holiday': 1, 'hopes': 1, 'horizon': 1, 'hour': 1, 'hours': 1, 'how': 1, 'icy': 1, 'imagination': 1, 'imagined': 1, 'imprinted': 1, 'in': 1, 'increased': 1, 'increasing': 1, 'induce': 1, 'inestimable': 1, 'inherited': 1, 'injunction': 1, 'insurance': 1, 'intellectual': 1, 'intend': 1, 'intention': 1, 'into': 1, 'inuring': 1, 'is': 1, 'it': 1, 'itself': 1, 'joy': 1, 'just': 1, 'kindness': 1, 'laborious': 1, 'land': 1, 'last': 1, 'latter': 1, 'learning': 1, 'leave': 1, 'letter': 2, 'library': 1, 'life': 2, 'lifted': 1, 'light': 1, 'little': 1, 'lived': 1, 'long': 1, 'lose': 1, 'love': 1, 'luxury': 1, 'made': 1, 'magnet': 1, 'man': 1, 'mankind': 1, 'many': 2, 'mates': 1, 'mathematics': 1, 'may': 1, 'me': 2, 'medicine': 1, 'meet': 1, 'might': 1, 'mind': 1, 'mine': 1, 'month': 1, 'months': 2, 'more': 1, 'most': 1, 'motion': 1, 'motionless': 1, 'much': 1, 'must': 1, 'myself': 1, 'names': 1, 'native': 1, 'naval': 1, 'navigatorsthere': 1, 'near': 1, 'necessary': 1, 'needle': 1, 'neglected': 1, 'nerves': 1, 'never': 2, 'niche': 1, 'night': 1, 'nights': 1, 'no': 1, 'northern': 1, 'not': 1, 'nothing': 1, 'now': 1, 'observations': 1, 'obtain': 1, 'of': 1, 'offered': 1, 'often': 1, 'on': 1, 'one': 1, 'only': 1, 'opinion': 1, 'or': 1, 'others': 1, 'our': 1, 'over': 1, 'own': 2, 'owner': 1, 'paradise': 1, 'part': 1, 'pass': 1, 'passage': 1, 'passed': 1, 'passionately': 1, 'path': 1, 'paying': 1, 'perhaps': 1, 'period': 1, 'perpetual': 1, 'persuaded': 1, 'perused': 1, 'phenomena': 1, 'physical': 1, 'placed': 1, 'play': 1, 'pleasant': 1, 'poet': 1, 'poets': 1, 'point': 1, 'pole': 2, 'possible': 1, 'postroad': 1, 'power': 1, 'practical': 1, 'preceding': 1, 'preferred': 1, 'present': 1, 'presents': 1, 'prevents': 1, 'proceed': 1, 'productions': 1, 'promise': 1, 'prospect': 1, 'proud': 1, 'purpose': 1, 'purposes': 1, 'purposea': 1, 'put': 1, 'question': 1, 'quickly': 1, 'raise': 1, 'reach': 1, 'read': 1, 'reading': 1, 'reflections': 1, 'regarded': 1, 'region': 1, 'regions': 1, 'regret': 1, 'regulate': 1, 'rejoice': 1, 'remain': 1, 'remaining': 1, 'remember': 1, 'render': 1, 'require': 1, 'required': 1, 'requisite': 1, 'resolution': 1, 'resolved': 1, 'return': 1, 'river': 1, 'sail': 1, 'sailing': 1, 'sailors': 1, 'satiate': 1, 'save': 1, 'science': 1, 'seafaring': 1, 'seas': 1, 'seat': 1, 'seated': 1, 'second': 1, 'secret': 1, 'see': 1, 'seeming': 1, 'services': 1, 'several': 1, 'shall': 1, 'ship': 1, 'shower': 1, 'sight': 1, 'since': 1, 'sister': 2, 'skirting': 1, 'sledges': 1, 'sleep': 1, 'snow': 1, 'so': 1, 'solitudes': 1, 'some': 1, 'sometimes': 1, 'soon': 1, 'soul': 1, 'spirits': 1, 'splendour': 1, 'stagecoach': 1, 'steady': 1, 'streets': 1, 'study': 1, 'succeed': 1, 'success': 1, 'such': 1, 'sufficient': 1, 'sun': 1, 'supposing': 1, 'surpassing': 1, 'surround': 1, 'sustain': 1, 'task': 1, 'temple': 1, 'testify': 1, 'than': 1, 'that': 1, 'their': 1, 'theirs': 1, 'them': 1, 'theory': 1, 'think': 1, 'thirst': 1, 'those': 1, 'thoughts': 1, 'thousand': 1, 'three': 1, 'through': 1, 'time': 2, 'towards': 1, 'town': 1, 'tranquillise': 1, 'travelled': 1, 'travelling': 1, 'tread': 1, 'trust': 1, 'try': 1, 'turned': 1, 'undermate': 1, 'understand': 1, 'undertaking': 2, 'undiscovered': 1, 'undoubtedly': 1, 'until': 1, 'up': 1, 'upon': 1, 'vain': 1, 'valuable': 1, 'various': 1, 'veins': 1, 'vessel': 1, 'visible': 1, 'visions': 1, 'visited': 1, 'vivid': 1, 'voice': 1, 'volumes': 1, 'voluntarily': 1, 'voyage': 2, 'voyages': 1, 'wafted': 1, 'walk': 1, 'walking': 1, 'want': 1, 'was': 1, 'we': 1, 'wealth': 1, 'weeks': 1, 'welfare': 1, 'well': 1, 'were': 1, 'whalefishers': 1, 'whalefishing': 1, 'whaler': 1, 'when': 1, 'where': 1, 'which': 2, 'who': 1, 'whole': 1, 'whose': 1, 'will': 1, 'wind': 1, 'with': 1, 'without': 1, 'wonders': 1, 'wondrous': 1, 'worked': 1, 'world': 1, 'would': 1, 'wrapped': 1, 'year': 1, 'years': 3, 'yesterday': 1, 'yet': 1}\n"
     ]
    }
   ],
   "source": [
    "filtered_words_count = dict(Counter(filtered_words))\n",
    "print(filtered_words_count)"
   ]
  },
  {
   "cell_type": "markdown",
   "id": "1c728811",
   "metadata": {},
   "source": [
    "As a way to preview the words (optional):"
   ]
  },
  {
   "cell_type": "code",
   "execution_count": 22,
   "id": "8d86861e",
   "metadata": {},
   "outputs": [
    {
     "name": "stdout",
     "output_type": "stream",
     "text": [
      "{'1': 1,\n",
      " '11th': 1,\n",
      " '17': 1,\n",
      " 'a': 1,\n",
      " 'about': 1,\n",
      " 'accompanied': 1,\n",
      " 'accomplish': 1,\n",
      " 'accounts': 1,\n",
      " 'accustomed': 1,\n",
      " 'acquainted': 1,\n",
      " 'acquitted': 1,\n",
      " 'actually': 1,\n",
      " 'admiration': 1,\n",
      " 'adopted': 1,\n",
      " 'advancing': 1,\n",
      " 'advantage': 1,\n",
      " 'adventurer': 1,\n",
      " 'affectionate': 1,\n",
      " 'affirmative': 1,\n",
      " 'again': 1,\n",
      " 'agitation': 1,\n",
      " 'agreeable': 1,\n",
      " 'ah': 1,\n",
      " 'all': 1,\n",
      " 'allow': 1,\n",
      " 'already': 1,\n",
      " 'also': 1,\n",
      " 'am': 1,\n",
      " 'ambition': 1,\n",
      " 'among': 1,\n",
      " 'an': 1,\n",
      " 'and': 3,\n",
      " 'answer': 1,\n",
      " 'archangel': 1,\n",
      " 'ardent': 1,\n",
      " 'ardour': 1,\n",
      " 'are': 1,\n",
      " 'arrived': 1,\n",
      " 'arriving': 1,\n",
      " 'as': 1,\n",
      " 'ascertaining': 1,\n",
      " 'assure': 1,\n",
      " 'at': 1,\n",
      " 'attracts': 1,\n",
      " 'banished': 1,\n",
      " 'be': 1,\n",
      " 'beauty': 1,\n",
      " 'became': 1,\n",
      " 'become': 1,\n",
      " 'been': 1,\n",
      " 'before': 1,\n",
      " 'began': 1,\n",
      " 'benefit': 1,\n",
      " 'bent': 1,\n",
      " 'between': 1,\n",
      " 'blessings': 1,\n",
      " 'blood': 1,\n",
      " 'boat': 1,\n",
      " 'bodies': 1,\n",
      " 'body': 1,\n",
      " 'bore': 1,\n",
      " 'braces': 1,\n",
      " 'branches': 1,\n",
      " 'breeze': 2,\n",
      " 'broad': 1,\n",
      " 'brother': 1,\n",
      " 'but': 2,\n",
      " 'by': 1,\n",
      " 'calm': 1,\n",
      " 'can': 2,\n",
      " 'cannot': 1,\n",
      " 'captain': 1,\n",
      " 'celestial': 1,\n",
      " 'channel': 1,\n",
      " 'cheeks': 1,\n",
      " 'child': 2,\n",
      " 'climes': 1,\n",
      " 'cold': 2,\n",
      " 'commence': 1,\n",
      " 'commenced': 1,\n",
      " 'commencement': 1,\n",
      " 'common': 1,\n",
      " 'composed': 1,\n",
      " 'confer': 1,\n",
      " 'confidence': 1,\n",
      " 'conjectures': 1,\n",
      " 'conquer': 1,\n",
      " 'consecrated': 1,\n",
      " 'consider': 1,\n",
      " 'consistent': 1,\n",
      " 'contest': 1,\n",
      " 'contributes': 1,\n",
      " 'countries': 1,\n",
      " 'country': 1,\n",
      " 'courage': 1,\n",
      " 'cousin': 1,\n",
      " 'creation': 1,\n",
      " 'curiosity': 1,\n",
      " 'danger': 1,\n",
      " 'day': 1,\n",
      " 'daydreams': 1,\n",
      " 'dear': 2,\n",
      " 'death': 1,\n",
      " 'dec': 1,\n",
      " 'deck': 1,\n",
      " 'dedicated': 1,\n",
      " 'delight': 1,\n",
      " 'demand': 1,\n",
      " 'depart': 1,\n",
      " 'depressed': 1,\n",
      " 'derive': 1,\n",
      " 'deserve': 1,\n",
      " 'desolation': 1,\n",
      " 'devoted': 1,\n",
      " 'did': 1,\n",
      " 'difference': 1,\n",
      " 'difficult': 1,\n",
      " 'diffusing': 1,\n",
      " 'dignity': 1,\n",
      " 'disappointment': 1,\n",
      " 'disaster': 1,\n",
      " 'discover': 1,\n",
      " 'discovered': 1,\n",
      " 'discovering': 1,\n",
      " 'discovery': 1,\n",
      " 'disk': 1,\n",
      " 'dispelled': 1,\n",
      " 'do': 2,\n",
      " 'done': 1,\n",
      " 'down': 1,\n",
      " 'dream': 1,\n",
      " 'dress': 1,\n",
      " 'during': 1,\n",
      " 'dying': 1,\n",
      " 'earlier': 1,\n",
      " 'early': 1,\n",
      " 'earnestness': 1,\n",
      " 'ease': 1,\n",
      " 'easily': 1,\n",
      " 'eccentricities': 1,\n",
      " 'education': 1,\n",
      " 'effected': 1,\n",
      " 'effusions': 1,\n",
      " 'elevates': 1,\n",
      " 'embark': 1,\n",
      " 'embarks': 1,\n",
      " 'emergencies': 1,\n",
      " 'encouraging': 1,\n",
      " 'endured': 1,\n",
      " 'engage': 1,\n",
      " 'england': 1,\n",
      " 'english': 1,\n",
      " 'enterprise': 2,\n",
      " 'enthusiasm': 1,\n",
      " 'enticement': 1,\n",
      " 'enticements': 1,\n",
      " 'entranced': 1,\n",
      " 'entreated': 1,\n",
      " 'eternal': 1,\n",
      " 'even': 1,\n",
      " 'ever': 2,\n",
      " 'every': 1,\n",
      " 'evil': 1,\n",
      " 'example': 1,\n",
      " 'excellent': 1,\n",
      " 'excessive': 1,\n",
      " 'exercise': 1,\n",
      " 'expected': 1,\n",
      " 'expedition': 1,\n",
      " 'expeditions': 1,\n",
      " 'eye': 1,\n",
      " 'faded': 1,\n",
      " 'fail': 1,\n",
      " 'failing': 1,\n",
      " 'failure': 1,\n",
      " 'false': 1,\n",
      " 'familiarity': 1,\n",
      " 'famine': 1,\n",
      " 'far': 1,\n",
      " 'farewell': 1,\n",
      " 'father': 1,\n",
      " 'favourable': 1,\n",
      " 'favourite': 1,\n",
      " 'fear': 1,\n",
      " 'features': 1,\n",
      " 'feel': 1,\n",
      " 'feeling': 1,\n",
      " 'feels': 1,\n",
      " 'felt': 2,\n",
      " 'fervent': 1,\n",
      " 'fills': 1,\n",
      " 'firm': 1,\n",
      " 'first': 1,\n",
      " 'fix': 1,\n",
      " 'fluctuate': 1,\n",
      " 'fly': 1,\n",
      " 'fond': 1,\n",
      " 'foot': 1,\n",
      " 'for': 1,\n",
      " 'forbidden': 1,\n",
      " 'forebodings': 1,\n",
      " 'foretaste': 1,\n",
      " 'fortitude:': 1,\n",
      " 'fortnight': 1,\n",
      " 'fortune': 1,\n",
      " 'freezing': 1,\n",
      " 'from': 1,\n",
      " 'frost': 1,\n",
      " 'fursa': 1,\n",
      " 'generation': 1,\n",
      " 'gives': 1,\n",
      " 'globe': 1,\n",
      " 'glory': 1,\n",
      " 'glow': 1,\n",
      " 'good': 1,\n",
      " 'gratitude': 1,\n",
      " 'great': 1,\n",
      " 'greatest': 1,\n",
      " 'greenland': 1,\n",
      " 'habitable': 1,\n",
      " 'had': 1,\n",
      " 'harder': 1,\n",
      " 'hardship': 1,\n",
      " 'has': 1,\n",
      " 'have': 1,\n",
      " 'he': 1,\n",
      " 'hear': 1,\n",
      " 'heart': 1,\n",
      " 'heaven': 3,\n",
      " 'heavenly': 1,\n",
      " 'heavily': 1,\n",
      " 'here': 1,\n",
      " 'hire': 1,\n",
      " 'hired': 1,\n",
      " 'his': 1,\n",
      " 'history': 1,\n",
      " 'hitherto': 1,\n",
      " 'holiday': 1,\n",
      " 'homer': 1,\n",
      " 'hopes': 1,\n",
      " 'horizon': 1,\n",
      " 'hour': 1,\n",
      " 'hours': 1,\n",
      " 'how': 1,\n",
      " 'i': 1,\n",
      " 'icy': 1,\n",
      " 'if': 2,\n",
      " 'imagination': 1,\n",
      " 'imagined': 1,\n",
      " 'imprinted': 1,\n",
      " 'in': 1,\n",
      " 'increased': 1,\n",
      " 'increasing': 1,\n",
      " 'induce': 1,\n",
      " 'inestimable': 1,\n",
      " 'inherited': 1,\n",
      " 'injunction': 1,\n",
      " 'inspirited': 1,\n",
      " 'insurance': 1,\n",
      " 'intellectual': 1,\n",
      " 'intend': 1,\n",
      " 'intention': 1,\n",
      " 'into': 1,\n",
      " 'inuring': 1,\n",
      " 'is': 1,\n",
      " 'it': 1,\n",
      " 'its': 2,\n",
      " 'itself': 1,\n",
      " 'joy': 1,\n",
      " 'june': 1,\n",
      " 'just': 1,\n",
      " 'kindness': 1,\n",
      " 'laborious': 1,\n",
      " 'land': 1,\n",
      " 'last': 1,\n",
      " 'latter': 1,\n",
      " 'learning': 1,\n",
      " 'leave': 1,\n",
      " 'letter': 2,\n",
      " 'library': 1,\n",
      " 'life': 2,\n",
      " 'lifted': 1,\n",
      " 'light': 1,\n",
      " 'little': 1,\n",
      " 'lived': 1,\n",
      " 'london': 1,\n",
      " 'long': 1,\n",
      " 'lose': 1,\n",
      " 'love': 1,\n",
      " 'luxury': 1,\n",
      " 'made': 1,\n",
      " 'magnet': 1,\n",
      " 'man': 1,\n",
      " 'mankind': 1,\n",
      " 'many': 2,\n",
      " 'margaret': 2,\n",
      " 'mates': 1,\n",
      " 'mathematics': 1,\n",
      " 'may': 1,\n",
      " 'me': 2,\n",
      " 'medicine': 1,\n",
      " 'meet': 1,\n",
      " 'might': 1,\n",
      " 'mind': 1,\n",
      " 'mine': 1,\n",
      " 'month': 1,\n",
      " 'months': 2,\n",
      " 'more': 1,\n",
      " 'most': 1,\n",
      " 'motion': 1,\n",
      " 'motionless': 1,\n",
      " 'mrs': 1,\n",
      " 'much': 1,\n",
      " 'must': 1,\n",
      " 'my': 2,\n",
      " 'myself': 1,\n",
      " 'names': 1,\n",
      " 'native': 1,\n",
      " 'naval': 1,\n",
      " 'navigatorsthere': 1,\n",
      " 'near': 1,\n",
      " 'necessary': 1,\n",
      " 'needle': 1,\n",
      " 'neglected': 1,\n",
      " 'nerves': 1,\n",
      " 'never': 2,\n",
      " 'niche': 1,\n",
      " 'night': 1,\n",
      " 'nights': 1,\n",
      " 'no': 1,\n",
      " 'north': 2,\n",
      " 'northern': 1,\n",
      " 'not': 1,\n",
      " 'nothing': 1,\n",
      " 'now': 1,\n",
      " 'observations': 1,\n",
      " 'obtain': 1,\n",
      " 'ocean': 1,\n",
      " 'of': 1,\n",
      " 'offered': 1,\n",
      " 'often': 1,\n",
      " 'oh': 1,\n",
      " 'on': 1,\n",
      " 'one': 1,\n",
      " 'only': 1,\n",
      " 'opinion': 1,\n",
      " 'or': 1,\n",
      " 'others': 1,\n",
      " 'our': 1,\n",
      " 'over': 1,\n",
      " 'own': 2,\n",
      " 'owner': 1,\n",
      " 'pacific': 1,\n",
      " 'paradise': 1,\n",
      " 'part': 1,\n",
      " 'pass': 1,\n",
      " 'passage': 1,\n",
      " 'passed': 1,\n",
      " 'passionately': 1,\n",
      " 'path': 1,\n",
      " 'paying': 1,\n",
      " 'perhaps': 1,\n",
      " 'period': 1,\n",
      " 'perpetual': 1,\n",
      " 'persuaded': 1,\n",
      " 'perused': 1,\n",
      " 'petersburgh': 2,\n",
      " 'phenomena': 1,\n",
      " 'physical': 1,\n",
      " 'placed': 1,\n",
      " 'play': 1,\n",
      " 'pleasant': 1,\n",
      " 'poet': 1,\n",
      " 'poets': 1,\n",
      " 'point': 1,\n",
      " 'pole': 2,\n",
      " 'possible': 1,\n",
      " 'postroad': 1,\n",
      " 'power': 1,\n",
      " 'practical': 1,\n",
      " 'preceding': 1,\n",
      " 'preferred': 1,\n",
      " 'present': 1,\n",
      " 'presents': 1,\n",
      " 'prevents': 1,\n",
      " 'proceed': 1,\n",
      " 'productions': 1,\n",
      " 'promise': 1,\n",
      " 'prospect': 1,\n",
      " 'proud': 1,\n",
      " 'purpose': 1,\n",
      " 'purposea': 1,\n",
      " 'purposes': 1,\n",
      " 'put': 1,\n",
      " 'question': 1,\n",
      " 'quickly': 1,\n",
      " 'r': 1,\n",
      " 'raise': 1,\n",
      " 'reach': 1,\n",
      " 'read': 1,\n",
      " 'reading': 1,\n",
      " 'reflections': 1,\n",
      " 'regarded': 1,\n",
      " 'region': 1,\n",
      " 'regions': 1,\n",
      " 'regret': 1,\n",
      " 'regulate': 1,\n",
      " 'rejoice': 1,\n",
      " 'remain': 1,\n",
      " 'remaining': 1,\n",
      " 'remember': 1,\n",
      " 'render': 1,\n",
      " 'require': 1,\n",
      " 'required': 1,\n",
      " 'requisite': 1,\n",
      " 'resolution': 1,\n",
      " 'resolved': 1,\n",
      " 'return': 1,\n",
      " 'river': 1,\n",
      " 'russia': 1,\n",
      " 'sail': 1,\n",
      " 'sailing': 1,\n",
      " 'sailors': 1,\n",
      " 'satiate': 1,\n",
      " 'save': 1,\n",
      " 'saville': 1,\n",
      " 'science': 1,\n",
      " 'sea': 2,\n",
      " 'seafaring': 1,\n",
      " 'seas': 1,\n",
      " 'seat': 1,\n",
      " 'seated': 1,\n",
      " 'second': 1,\n",
      " 'secret': 1,\n",
      " 'see': 1,\n",
      " 'seeming': 1,\n",
      " 'services': 1,\n",
      " 'several': 1,\n",
      " 'shakespeare': 1,\n",
      " 'shall': 1,\n",
      " 'ship': 1,\n",
      " 'shower': 1,\n",
      " 'sight': 1,\n",
      " 'since': 1,\n",
      " 'sister': 2,\n",
      " 'six': 1,\n",
      " 'skirting': 1,\n",
      " 'sledges': 1,\n",
      " 'sleep': 1,\n",
      " 'snow': 1,\n",
      " 'so': 1,\n",
      " 'solitudes': 1,\n",
      " 'some': 1,\n",
      " 'sometimes': 1,\n",
      " 'soon': 1,\n",
      " 'soul': 1,\n",
      " 'spirits': 1,\n",
      " 'splendour': 1,\n",
      " 'st': 1,\n",
      " 'stagecoach': 1,\n",
      " 'steady': 1,\n",
      " 'streets': 1,\n",
      " 'study': 1,\n",
      " 'succeed': 1,\n",
      " 'success': 1,\n",
      " 'such': 1,\n",
      " 'sufficient': 1,\n",
      " 'sun': 1,\n",
      " 'supposing': 1,\n",
      " 'surpassing': 1,\n",
      " 'surround': 1,\n",
      " 'sustain': 1,\n",
      " 'task': 1,\n",
      " 'temple': 1,\n",
      " 'testify': 1,\n",
      " 'than': 1,\n",
      " 'that': 1,\n",
      " 'the': 2,\n",
      " 'their': 1,\n",
      " 'theirs': 1,\n",
      " 'them': 1,\n",
      " 'theory': 1,\n",
      " 'there': 3,\n",
      " 'therefor': 1,\n",
      " 'these': 2,\n",
      " 'they': 2,\n",
      " 'think': 1,\n",
      " 'thirst': 1,\n",
      " 'this': 2,\n",
      " 'thomas': 1,\n",
      " 'those': 1,\n",
      " 'thoughts': 1,\n",
      " 'thousand': 1,\n",
      " 'three': 1,\n",
      " 'through': 1,\n",
      " 'time': 2,\n",
      " 'to': 2,\n",
      " 'towards': 1,\n",
      " 'town': 1,\n",
      " 'tranquillise': 1,\n",
      " 'travelled': 1,\n",
      " 'travelling': 1,\n",
      " 'tread': 1,\n",
      " 'trust': 1,\n",
      " 'try': 1,\n",
      " 'turned': 1,\n",
      " 'twice': 1,\n",
      " 'uncle': 2,\n",
      " 'undermate': 1,\n",
      " 'understand': 1,\n",
      " 'undertaking': 2,\n",
      " 'undiscovered': 1,\n",
      " 'undoubtedly': 1,\n",
      " 'until': 1,\n",
      " 'up': 1,\n",
      " 'upon': 1,\n",
      " 'vain': 1,\n",
      " 'valuable': 1,\n",
      " 'various': 1,\n",
      " 'veins': 1,\n",
      " 'vessel': 1,\n",
      " 'visible': 1,\n",
      " 'visions': 1,\n",
      " 'visited': 1,\n",
      " 'vivid': 1,\n",
      " 'voice': 1,\n",
      " 'volumes': 1,\n",
      " 'voluntarily': 1,\n",
      " 'voyage': 2,\n",
      " 'voyages': 1,\n",
      " 'wafted': 1,\n",
      " 'walk': 1,\n",
      " 'walking': 1,\n",
      " 'walton<win!<': 1,\n",
      " 'want': 1,\n",
      " 'was': 1,\n",
      " 'we': 1,\n",
      " 'wealth': 1,\n",
      " 'weeks': 1,\n",
      " 'welfare': 1,\n",
      " 'well': 1,\n",
      " 'were': 1,\n",
      " 'whalefishers': 1,\n",
      " 'whalefishing': 1,\n",
      " 'whaler': 1,\n",
      " 'what': 1,\n",
      " 'when': 1,\n",
      " 'where': 1,\n",
      " 'which': 2,\n",
      " 'who': 1,\n",
      " 'whole': 1,\n",
      " 'whose': 1,\n",
      " 'will': 1,\n",
      " 'wind': 1,\n",
      " 'with': 1,\n",
      " 'without': 1,\n",
      " 'wonders': 1,\n",
      " 'wondrous': 1,\n",
      " 'worked': 1,\n",
      " 'world': 1,\n",
      " 'would': 1,\n",
      " 'wrapped': 1,\n",
      " 'year': 1,\n",
      " 'years': 3,\n",
      " 'yesterday': 1,\n",
      " 'yet': 1,\n",
      " 'you': 3,\n",
      " 'your': 2}\n"
     ]
    }
   ],
   "source": [
    "pprint.pprint(filtered_words_count)"
   ]
  },
  {
   "cell_type": "markdown",
   "id": "5d7fe918",
   "metadata": {},
   "source": [
    "### E) Save the distinct word dictionary as a JSON file (call it 'word_count_dict.json')  "
   ]
  },
  {
   "cell_type": "code",
   "execution_count": 23,
   "id": "48686cb7",
   "metadata": {},
   "outputs": [],
   "source": [
    "out_file = open(\"word_count_dict.json\", \"w\")\n",
    "json.dump(filtered_words_count, out_file, indent=4, sort_keys=False)\n",
    "out_file.close()"
   ]
  },
  {
   "cell_type": "markdown",
   "id": "1edf380a",
   "metadata": {},
   "source": [
    "### F) Plot a histogram of the count of words by word length for all words in the document "
   ]
  },
  {
   "cell_type": "code",
   "execution_count": 24,
   "id": "47441c24",
   "metadata": {
    "scrolled": true
   },
   "outputs": [
    {
     "name": "stdout",
     "output_type": "stream",
     "text": [
      "['1', '11th', '17', 'ah', 'and', 'archangel', 'but', 'dec', 'do', 'england', 'english', 'farewell', 'greenland', 'heaven', 'homer', 'i', 'if', 'inspirited', 'its', 'june', 'london', 'margaret', 'margaret', 'mrs', 'my', 'north', 'ocean', 'oh', 'pacific', 'petersburgh', 'petersburgh', 'r', 'russia', 'saville', 'sea', 'shakespeare', 'six', 'st', 'the', 'there', 'therefor', 'these', 'they', 'this', 'thomas', 'to', 'twice', 'uncle', 'walton<win!<', 'what', 'you', 'your', 'a', 'about', 'accompanied', 'accomplish', 'accounts', 'accustomed', 'acquainted', 'acquitted', 'actually', 'admiration', 'adopted', 'advancing', 'advantage', 'adventurer', 'affectionate', 'affirmative', 'again', 'agitation', 'agreeable', 'all', 'allow', 'already', 'also', 'am', 'ambition', 'among', 'an', 'and', 'and', 'answer', 'ardent', 'ardour', 'are', 'arrived', 'arriving', 'as', 'ascertaining', 'assure', 'at', 'attracts', 'banished', 'be', 'beauty', 'became', 'become', 'been', 'before', 'began', 'benefit', 'bent', 'between', 'blessings', 'blood', 'boat', 'bodies', 'body', 'bore', 'braces', 'branches', 'breeze', 'breeze', 'broad', 'brother', 'but', 'by', 'calm', 'can', 'can', 'cannot', 'captain', 'celestial', 'channel', 'cheeks', 'child', 'child', 'climes', 'cold', 'cold', 'commence', 'commenced', 'commencement', 'common', 'composed', 'confer', 'confidence', 'conjectures', 'conquer', 'consecrated', 'consider', 'consistent', 'contest', 'contributes', 'countries', 'country', 'courage', 'cousin', 'creation', 'curiosity', 'danger', 'day', 'daydreams', 'dear', 'dear', 'death', 'deck', 'dedicated', 'delight', 'demand', 'depart', 'depressed', 'derive', 'deserve', 'desolation', 'devoted', 'did', 'difference', 'difficult', 'diffusing', 'dignity', 'disappointment', 'disaster', 'discover', 'discovered', 'discovering', 'discovery', 'disk', 'dispelled', 'do', 'done', 'down', 'dream', 'dress', 'during', 'dying', 'earlier', 'early', 'earnestness', 'ease', 'easily', 'eccentricities', 'education', 'effected', 'effusions', 'elevates', 'embark', 'embarks', 'emergencies', 'encouraging', 'endured', 'engage', 'enterprise', 'enterprise', 'enthusiasm', 'enticement', 'enticements', 'entranced', 'entreated', 'eternal', 'even', 'ever', 'ever', 'every', 'evil', 'example', 'excellent', 'excessive', 'exercise', 'expected', 'expedition', 'expeditions', 'eye', 'faded', 'fail', 'failing', 'failure', 'false', 'familiarity', 'famine', 'far', 'father', 'favourable', 'favourite', 'fear', 'features', 'feel', 'feeling', 'feels', 'felt', 'felt', 'fervent', 'fills', 'firm', 'first', 'fix', 'fluctuate', 'fly', 'fond', 'foot', 'for', 'forbidden', 'forebodings', 'foretaste', 'fortitude:', 'fortnight', 'fortune', 'freezing', 'from', 'frost', 'fursa', 'generation', 'gives', 'globe', 'glory', 'glow', 'good', 'gratitude', 'great', 'greatest', 'habitable', 'had', 'harder', 'hardship', 'has', 'have', 'he', 'hear', 'heart', 'heaven', 'heaven', 'heavenly', 'heavily', 'here', 'hire', 'hired', 'his', 'history', 'hitherto', 'holiday', 'hopes', 'horizon', 'hour', 'hours', 'how', 'icy', 'if', 'imagination', 'imagined', 'imprinted', 'in', 'increased', 'increasing', 'induce', 'inestimable', 'inherited', 'injunction', 'insurance', 'intellectual', 'intend', 'intention', 'into', 'inuring', 'is', 'it', 'its', 'itself', 'joy', 'just', 'kindness', 'laborious', 'land', 'last', 'latter', 'learning', 'leave', 'letter', 'library', 'life', 'life', 'lifted', 'light', 'little', 'lived', 'long', 'lose', 'love', 'luxury', 'made', 'magnet', 'man', 'mankind', 'many', 'many', 'mates', 'mathematics', 'may', 'me', 'me', 'medicine', 'meet', 'might', 'mind', 'mine', 'month', 'months', 'months', 'more', 'most', 'motion', 'motionless', 'much', 'must', 'my', 'myself', 'names', 'native', 'naval', 'navigatorsthere', 'near', 'necessary', 'needle', 'neglected', 'nerves', 'never', 'never', 'niche', 'night', 'nights', 'no', 'north', 'northern', 'not', 'nothing', 'now', 'observations', 'obtain', 'of', 'offered', 'often', 'on', 'one', 'only', 'opinion', 'or', 'others', 'our', 'over', 'own', 'own', 'owner', 'paradise', 'part', 'pass', 'passage', 'passed', 'passionately', 'path', 'paying', 'perhaps', 'period', 'perpetual', 'persuaded', 'perused', 'phenomena', 'physical', 'placed', 'play', 'pleasant', 'poet', 'poets', 'point', 'pole', 'pole', 'possible', 'postroad', 'power', 'practical', 'preceding', 'preferred', 'present', 'presents', 'prevents', 'proceed', 'productions', 'promise', 'prospect', 'proud', 'purpose', 'purposes', 'purposea', 'put', 'question', 'quickly', 'raise', 'reach', 'read', 'reading', 'reflections', 'regarded', 'region', 'regions', 'regret', 'regulate', 'rejoice', 'remain', 'remaining', 'remember', 'render', 'require', 'required', 'requisite', 'resolution', 'resolved', 'return', 'river', 'sail', 'sailing', 'sailors', 'satiate', 'save', 'science', 'sea', 'seafaring', 'seas', 'seat', 'seated', 'second', 'secret', 'see', 'seeming', 'services', 'several', 'shall', 'ship', 'shower', 'sight', 'since', 'sister', 'sister', 'skirting', 'sledges', 'sleep', 'snow', 'so', 'solitudes', 'some', 'sometimes', 'soon', 'soul', 'spirits', 'splendour', 'stagecoach', 'steady', 'streets', 'study', 'succeed', 'success', 'such', 'sufficient', 'sun', 'supposing', 'surpassing', 'surround', 'sustain', 'task', 'temple', 'testify', 'than', 'that', 'the', 'their', 'theirs', 'them', 'theory', 'there', 'there', 'these', 'they', 'think', 'thirst', 'this', 'those', 'thoughts', 'thousand', 'three', 'through', 'time', 'time', 'to', 'towards', 'town', 'tranquillise', 'travelled', 'travelling', 'tread', 'trust', 'try', 'turned', 'uncle', 'undermate', 'understand', 'undertaking', 'undertaking', 'undiscovered', 'undoubtedly', 'until', 'up', 'upon', 'vain', 'valuable', 'various', 'veins', 'vessel', 'visible', 'visions', 'visited', 'vivid', 'voice', 'volumes', 'voluntarily', 'voyage', 'voyage', 'voyages', 'wafted', 'walk', 'walking', 'want', 'was', 'we', 'wealth', 'weeks', 'welfare', 'well', 'were', 'whalefishers', 'whalefishing', 'whaler', 'when', 'where', 'which', 'which', 'who', 'whole', 'whose', 'will', 'wind', 'with', 'without', 'wonders', 'wondrous', 'worked', 'world', 'would', 'wrapped', 'year', 'years', 'years', 'years', 'yesterday', 'yet', 'you', 'you', 'your', 'letter']\n"
     ]
    }
   ],
   "source": [
    "print(filtered_words)"
   ]
  },
  {
   "cell_type": "code",
   "execution_count": 25,
   "id": "b40fad7e",
   "metadata": {},
   "outputs": [
    {
     "data": {
      "image/png": "[encoded data removed]",
      "text/plain": [
       "<Figure size 432x288 with 1 Axes>"
      ]
     },
     "metadata": {
      "needs_background": "light"
     },
     "output_type": "display_data"
    }
   ],
   "source": [
    "# used dict to count lenghts\n",
    "d = {}\n",
    "for w in filtered_words:\n",
    "    l = len(w)\n",
    "    d[l] = d.get(l, 0) + 1\n",
    "# get info from the dict \n",
    "lenghts, counts = zip(*d.items())\n",
    "# plot\n",
    "plt.bar(lenghts, counts)\n",
    "plt.xticks(range(1, max(lenghts)+1))\n",
    "plt.xlabel('Word Length')\n",
    "plt.ylabel('Count of Word')\n",
    "plt.suptitle('Count of Words by Word Length', y=1.05, fontsize=18)\n",
    "# what is the longest word?\n",
    "plt.title('Longest Word:'+ ' '.join(w for w in filtered_words if len(w)==max(lenghts)), fontsize=10)\n",
    "\n",
    "plt.show()"
   ]
  },
  {
   "cell_type": "markdown",
   "id": "3d0a245b",
   "metadata": {},
   "source": [
    "Pondria. Numer of letters in word y number of words para los titulos"
   ]
  },
  {
   "cell_type": "markdown",
   "id": "1f81a4b4",
   "metadata": {},
   "source": [
    "We can see that we have an slight Right-Skewed histogram "
   ]
  },
  {
   "cell_type": "markdown",
   "id": "85c686d6",
   "metadata": {},
   "source": [
    "# ---------------Extra----------------"
   ]
  },
  {
   "cell_type": "markdown",
   "id": "1ce0b13e",
   "metadata": {},
   "source": [
    "#### Show a plot of the top 20 most used words"
   ]
  },
  {
   "cell_type": "code",
   "execution_count": 27,
   "id": "eb795291",
   "metadata": {},
   "outputs": [],
   "source": [
    "word_list = filtered_words\n",
    "counts = dict(Counter(word_list).most_common(20))\n",
    "labels, values = zip(*counts.items())\n",
    "indSort = np.argsort(values)[::-1]"
   ]
  },
  {
   "cell_type": "code",
   "execution_count": 28,
   "id": "abcd859b",
   "metadata": {},
   "outputs": [
    {
     "data": {
      "image/png": "[encoded data removed]",
      "text/plain": [
       "<Figure size 432x288 with 1 Axes>"
      ]
     },
     "metadata": {
      "needs_background": "light"
     },
     "output_type": "display_data"
    }
   ],
   "source": [
    "labels = np.array(labels)[indSort]\n",
    "values = np.array(values)[indSort]\n",
    "\n",
    "indexes = np.arange(len(labels))\n",
    "\n",
    "bar_width = 0.35\n",
    "\n",
    "plt.bar(indexes, values)\n",
    "plt.xlabel('Word')\n",
    "plt.ylabel('Count')\n",
    "plt.xticks(indexes + bar_width, labels, rotation = 90)\n",
    "plt.show()"
   ]
  },
  {
   "cell_type": "markdown",
   "id": "b53c7d39",
   "metadata": {},
   "source": [
    "#### Since we built a dictionary, we can give it some use and import the meanings"
   ]
  },
  {
   "cell_type": "markdown",
   "id": "f0865718",
   "metadata": {},
   "source": [
    "We want to remove duplicates from filtered_words"
   ]
  },
  {
   "cell_type": "code",
   "execution_count": 29,
   "id": "7281678b",
   "metadata": {},
   "outputs": [],
   "source": [
    "unique = []\n",
    "for word in filtered_words:\n",
    "    if word not in unique:\n",
    "        unique.append(word)"
   ]
  },
  {
   "cell_type": "code",
   "execution_count": 30,
   "id": "a929c017",
   "metadata": {},
   "outputs": [],
   "source": [
    "from PyDictionary import PyDictionary"
   ]
  },
  {
   "cell_type": "code",
   "execution_count": 31,
   "id": "f8fbb384",
   "metadata": {},
   "outputs": [
    {
     "ename": "KeyboardInterrupt",
     "evalue": "",
     "output_type": "error",
     "traceback": [
      "\u001b[1;31m---------------------------------------------------------------------------\u001b[0m",
      "\u001b[1;31mTimeoutError\u001b[0m                              Traceback (most recent call last)",
      "\u001b[1;32m~\\Anaconda3\\envs\\py38\\lib\\site-packages\\urllib3\\util\\connection.py\u001b[0m in \u001b[0;36mcreate_connection\u001b[1;34m(address, timeout, source_address, socket_options)\u001b[0m\n\u001b[0;32m     85\u001b[0m                 \u001b[0msock\u001b[0m\u001b[1;33m.\u001b[0m\u001b[0mbind\u001b[0m\u001b[1;33m(\u001b[0m\u001b[0msource_address\u001b[0m\u001b[1;33m)\u001b[0m\u001b[1;33m\u001b[0m\u001b[1;33m\u001b[0m\u001b[0m\n\u001b[1;32m---> 86\u001b[1;33m             \u001b[0msock\u001b[0m\u001b[1;33m.\u001b[0m\u001b[0mconnect\u001b[0m\u001b[1;33m(\u001b[0m\u001b[0msa\u001b[0m\u001b[1;33m)\u001b[0m\u001b[1;33m\u001b[0m\u001b[1;33m\u001b[0m\u001b[0m\n\u001b[0m\u001b[0;32m     87\u001b[0m             \u001b[1;32mreturn\u001b[0m \u001b[0msock\u001b[0m\u001b[1;33m\u001b[0m\u001b[1;33m\u001b[0m\u001b[0m\n",
      "\u001b[1;31mTimeoutError\u001b[0m: [WinError 10060] A connection attempt failed because the connected party did not properly respond after a period of time, or established connection failed because connected host has failed to respond",
      "\nDuring handling of the above exception, another exception occurred:\n",
      "\u001b[1;31mKeyboardInterrupt\u001b[0m                         Traceback (most recent call last)",
      "\u001b[1;32m<ipython-input-31-1c5f5655db5a>\u001b[0m in \u001b[0;36m<module>\u001b[1;34m\u001b[0m\n\u001b[0;32m      1\u001b[0m \u001b[0mdictionary\u001b[0m \u001b[1;33m=\u001b[0m \u001b[0mPyDictionary\u001b[0m\u001b[1;33m(\u001b[0m\u001b[0munique\u001b[0m\u001b[1;33m)\u001b[0m\u001b[1;33m\u001b[0m\u001b[1;33m\u001b[0m\u001b[0m\n\u001b[1;32m----> 2\u001b[1;33m \u001b[0mprint\u001b[0m\u001b[1;33m(\u001b[0m\u001b[0mdictionary\u001b[0m\u001b[1;33m.\u001b[0m\u001b[0mprintMeanings\u001b[0m\u001b[1;33m(\u001b[0m\u001b[1;33m)\u001b[0m\u001b[1;33m)\u001b[0m\u001b[1;33m\u001b[0m\u001b[1;33m\u001b[0m\u001b[0m\n\u001b[0m",
      "\u001b[1;32m~\\Anaconda3\\envs\\py38\\lib\\site-packages\\PyDictionary\\core.py\u001b[0m in \u001b[0;36mprintMeanings\u001b[1;34m(self)\u001b[0m\n\u001b[0;32m     23\u001b[0m \u001b[1;33m\u001b[0m\u001b[0m\n\u001b[0;32m     24\u001b[0m     \u001b[1;32mdef\u001b[0m \u001b[0mprintMeanings\u001b[0m\u001b[1;33m(\u001b[0m\u001b[0mself\u001b[0m\u001b[1;33m)\u001b[0m\u001b[1;33m:\u001b[0m\u001b[1;33m\u001b[0m\u001b[1;33m\u001b[0m\u001b[0m\n\u001b[1;32m---> 25\u001b[1;33m         \u001b[0mdic\u001b[0m \u001b[1;33m=\u001b[0m \u001b[0mself\u001b[0m\u001b[1;33m.\u001b[0m\u001b[0mgetMeanings\u001b[0m\u001b[1;33m(\u001b[0m\u001b[1;33m)\u001b[0m\u001b[1;33m\u001b[0m\u001b[1;33m\u001b[0m\u001b[0m\n\u001b[0m\u001b[0;32m     26\u001b[0m         \u001b[1;32mfor\u001b[0m \u001b[0mkey\u001b[0m \u001b[1;32min\u001b[0m \u001b[0mdic\u001b[0m\u001b[1;33m.\u001b[0m\u001b[0mkeys\u001b[0m\u001b[1;33m(\u001b[0m\u001b[1;33m)\u001b[0m\u001b[1;33m:\u001b[0m\u001b[1;33m\u001b[0m\u001b[1;33m\u001b[0m\u001b[0m\n\u001b[0;32m     27\u001b[0m             \u001b[0mprint\u001b[0m\u001b[1;33m(\u001b[0m\u001b[0mkey\u001b[0m\u001b[1;33m.\u001b[0m\u001b[0mcapitalize\u001b[0m\u001b[1;33m(\u001b[0m\u001b[1;33m)\u001b[0m \u001b[1;33m+\u001b[0m \u001b[1;34m':'\u001b[0m\u001b[1;33m)\u001b[0m\u001b[1;33m\u001b[0m\u001b[1;33m\u001b[0m\u001b[0m\n",
      "\u001b[1;32m~\\Anaconda3\\envs\\py38\\lib\\site-packages\\PyDictionary\\core.py\u001b[0m in \u001b[0;36mgetMeanings\u001b[1;34m(self)\u001b[0m\n\u001b[0;32m     46\u001b[0m         \u001b[0mout\u001b[0m \u001b[1;33m=\u001b[0m \u001b[1;33m{\u001b[0m\u001b[1;33m}\u001b[0m\u001b[1;33m\u001b[0m\u001b[1;33m\u001b[0m\u001b[0m\n\u001b[0;32m     47\u001b[0m         \u001b[1;32mfor\u001b[0m \u001b[0mterm\u001b[0m \u001b[1;32min\u001b[0m \u001b[0mself\u001b[0m\u001b[1;33m.\u001b[0m\u001b[0margs\u001b[0m\u001b[1;33m:\u001b[0m\u001b[1;33m\u001b[0m\u001b[1;33m\u001b[0m\u001b[0m\n\u001b[1;32m---> 48\u001b[1;33m             \u001b[0mout\u001b[0m\u001b[1;33m[\u001b[0m\u001b[0mterm\u001b[0m\u001b[1;33m]\u001b[0m \u001b[1;33m=\u001b[0m \u001b[0mself\u001b[0m\u001b[1;33m.\u001b[0m\u001b[0mmeaning\u001b[0m\u001b[1;33m(\u001b[0m\u001b[0mterm\u001b[0m\u001b[1;33m)\u001b[0m\u001b[1;33m\u001b[0m\u001b[1;33m\u001b[0m\u001b[0m\n\u001b[0m\u001b[0;32m     49\u001b[0m         \u001b[1;32mreturn\u001b[0m \u001b[0mout\u001b[0m\u001b[1;33m\u001b[0m\u001b[1;33m\u001b[0m\u001b[0m\n\u001b[0;32m     50\u001b[0m \u001b[1;33m\u001b[0m\u001b[0m\n",
      "\u001b[1;32m~\\Anaconda3\\envs\\py38\\lib\\site-packages\\PyDictionary\\core.py\u001b[0m in \u001b[0;36mmeaning\u001b[1;34m(term, disable_errors)\u001b[0m\n\u001b[0;32m    117\u001b[0m         \u001b[1;32melse\u001b[0m\u001b[1;33m:\u001b[0m\u001b[1;33m\u001b[0m\u001b[1;33m\u001b[0m\u001b[0m\n\u001b[0;32m    118\u001b[0m             \u001b[1;32mtry\u001b[0m\u001b[1;33m:\u001b[0m\u001b[1;33m\u001b[0m\u001b[1;33m\u001b[0m\u001b[0m\n\u001b[1;32m--> 119\u001b[1;33m                 html = _get_soup_object(\"http://wordnetweb.princeton.edu/perl/webwn?s={0}\".format(\n\u001b[0m\u001b[0;32m    120\u001b[0m                     term))\n\u001b[0;32m    121\u001b[0m                 \u001b[0mtypes\u001b[0m \u001b[1;33m=\u001b[0m \u001b[0mhtml\u001b[0m\u001b[1;33m.\u001b[0m\u001b[0mfindAll\u001b[0m\u001b[1;33m(\u001b[0m\u001b[1;34m\"h3\"\u001b[0m\u001b[1;33m)\u001b[0m\u001b[1;33m\u001b[0m\u001b[1;33m\u001b[0m\u001b[0m\n",
      "\u001b[1;32m~\\Anaconda3\\envs\\py38\\lib\\site-packages\\PyDictionary\\utils.py\u001b[0m in \u001b[0;36m_get_soup_object\u001b[1;34m(url, parser)\u001b[0m\n\u001b[0;32m      3\u001b[0m \u001b[1;33m\u001b[0m\u001b[0m\n\u001b[0;32m      4\u001b[0m \u001b[1;32mdef\u001b[0m \u001b[0m_get_soup_object\u001b[0m\u001b[1;33m(\u001b[0m\u001b[0murl\u001b[0m\u001b[1;33m,\u001b[0m \u001b[0mparser\u001b[0m\u001b[1;33m=\u001b[0m\u001b[1;34m\"html.parser\"\u001b[0m\u001b[1;33m)\u001b[0m\u001b[1;33m:\u001b[0m\u001b[1;33m\u001b[0m\u001b[1;33m\u001b[0m\u001b[0m\n\u001b[1;32m----> 5\u001b[1;33m     \u001b[1;32mreturn\u001b[0m \u001b[0mBeautifulSoup\u001b[0m\u001b[1;33m(\u001b[0m\u001b[0mrequests\u001b[0m\u001b[1;33m.\u001b[0m\u001b[0mget\u001b[0m\u001b[1;33m(\u001b[0m\u001b[0murl\u001b[0m\u001b[1;33m)\u001b[0m\u001b[1;33m.\u001b[0m\u001b[0mtext\u001b[0m\u001b[1;33m,\u001b[0m \u001b[0mparser\u001b[0m\u001b[1;33m)\u001b[0m\u001b[1;33m\u001b[0m\u001b[1;33m\u001b[0m\u001b[0m\n\u001b[0m",
      "\u001b[1;32m~\\Anaconda3\\envs\\py38\\lib\\site-packages\\requests\\api.py\u001b[0m in \u001b[0;36mget\u001b[1;34m(url, params, **kwargs)\u001b[0m\n\u001b[0;32m     74\u001b[0m \u001b[1;33m\u001b[0m\u001b[0m\n\u001b[0;32m     75\u001b[0m     \u001b[0mkwargs\u001b[0m\u001b[1;33m.\u001b[0m\u001b[0msetdefault\u001b[0m\u001b[1;33m(\u001b[0m\u001b[1;34m'allow_redirects'\u001b[0m\u001b[1;33m,\u001b[0m \u001b[1;32mTrue\u001b[0m\u001b[1;33m)\u001b[0m\u001b[1;33m\u001b[0m\u001b[1;33m\u001b[0m\u001b[0m\n\u001b[1;32m---> 76\u001b[1;33m     \u001b[1;32mreturn\u001b[0m \u001b[0mrequest\u001b[0m\u001b[1;33m(\u001b[0m\u001b[1;34m'get'\u001b[0m\u001b[1;33m,\u001b[0m \u001b[0murl\u001b[0m\u001b[1;33m,\u001b[0m \u001b[0mparams\u001b[0m\u001b[1;33m=\u001b[0m\u001b[0mparams\u001b[0m\u001b[1;33m,\u001b[0m \u001b[1;33m**\u001b[0m\u001b[0mkwargs\u001b[0m\u001b[1;33m)\u001b[0m\u001b[1;33m\u001b[0m\u001b[1;33m\u001b[0m\u001b[0m\n\u001b[0m\u001b[0;32m     77\u001b[0m \u001b[1;33m\u001b[0m\u001b[0m\n\u001b[0;32m     78\u001b[0m \u001b[1;33m\u001b[0m\u001b[0m\n",
      "\u001b[1;32m~\\Anaconda3\\envs\\py38\\lib\\site-packages\\requests\\api.py\u001b[0m in \u001b[0;36mrequest\u001b[1;34m(method, url, **kwargs)\u001b[0m\n\u001b[0;32m     59\u001b[0m     \u001b[1;31m# cases, and look like a memory leak in others.\u001b[0m\u001b[1;33m\u001b[0m\u001b[1;33m\u001b[0m\u001b[1;33m\u001b[0m\u001b[0m\n\u001b[0;32m     60\u001b[0m     \u001b[1;32mwith\u001b[0m \u001b[0msessions\u001b[0m\u001b[1;33m.\u001b[0m\u001b[0mSession\u001b[0m\u001b[1;33m(\u001b[0m\u001b[1;33m)\u001b[0m \u001b[1;32mas\u001b[0m \u001b[0msession\u001b[0m\u001b[1;33m:\u001b[0m\u001b[1;33m\u001b[0m\u001b[1;33m\u001b[0m\u001b[0m\n\u001b[1;32m---> 61\u001b[1;33m         \u001b[1;32mreturn\u001b[0m \u001b[0msession\u001b[0m\u001b[1;33m.\u001b[0m\u001b[0mrequest\u001b[0m\u001b[1;33m(\u001b[0m\u001b[0mmethod\u001b[0m\u001b[1;33m=\u001b[0m\u001b[0mmethod\u001b[0m\u001b[1;33m,\u001b[0m \u001b[0murl\u001b[0m\u001b[1;33m=\u001b[0m\u001b[0murl\u001b[0m\u001b[1;33m,\u001b[0m \u001b[1;33m**\u001b[0m\u001b[0mkwargs\u001b[0m\u001b[1;33m)\u001b[0m\u001b[1;33m\u001b[0m\u001b[1;33m\u001b[0m\u001b[0m\n\u001b[0m\u001b[0;32m     62\u001b[0m \u001b[1;33m\u001b[0m\u001b[0m\n\u001b[0;32m     63\u001b[0m \u001b[1;33m\u001b[0m\u001b[0m\n",
      "\u001b[1;32m~\\Anaconda3\\envs\\py38\\lib\\site-packages\\requests\\sessions.py\u001b[0m in \u001b[0;36mrequest\u001b[1;34m(self, method, url, params, data, headers, cookies, files, auth, timeout, allow_redirects, proxies, hooks, stream, verify, cert, json)\u001b[0m\n\u001b[0;32m    540\u001b[0m         }\n\u001b[0;32m    541\u001b[0m         \u001b[0msend_kwargs\u001b[0m\u001b[1;33m.\u001b[0m\u001b[0mupdate\u001b[0m\u001b[1;33m(\u001b[0m\u001b[0msettings\u001b[0m\u001b[1;33m)\u001b[0m\u001b[1;33m\u001b[0m\u001b[1;33m\u001b[0m\u001b[0m\n\u001b[1;32m--> 542\u001b[1;33m         \u001b[0mresp\u001b[0m \u001b[1;33m=\u001b[0m \u001b[0mself\u001b[0m\u001b[1;33m.\u001b[0m\u001b[0msend\u001b[0m\u001b[1;33m(\u001b[0m\u001b[0mprep\u001b[0m\u001b[1;33m,\u001b[0m \u001b[1;33m**\u001b[0m\u001b[0msend_kwargs\u001b[0m\u001b[1;33m)\u001b[0m\u001b[1;33m\u001b[0m\u001b[1;33m\u001b[0m\u001b[0m\n\u001b[0m\u001b[0;32m    543\u001b[0m \u001b[1;33m\u001b[0m\u001b[0m\n\u001b[0;32m    544\u001b[0m         \u001b[1;32mreturn\u001b[0m \u001b[0mresp\u001b[0m\u001b[1;33m\u001b[0m\u001b[1;33m\u001b[0m\u001b[0m\n",
      "\u001b[1;32m~\\Anaconda3\\envs\\py38\\lib\\site-packages\\requests\\sessions.py\u001b[0m in \u001b[0;36msend\u001b[1;34m(self, request, **kwargs)\u001b[0m\n\u001b[0;32m    653\u001b[0m \u001b[1;33m\u001b[0m\u001b[0m\n\u001b[0;32m    654\u001b[0m         \u001b[1;31m# Send the request\u001b[0m\u001b[1;33m\u001b[0m\u001b[1;33m\u001b[0m\u001b[1;33m\u001b[0m\u001b[0m\n\u001b[1;32m--> 655\u001b[1;33m         \u001b[0mr\u001b[0m \u001b[1;33m=\u001b[0m \u001b[0madapter\u001b[0m\u001b[1;33m.\u001b[0m\u001b[0msend\u001b[0m\u001b[1;33m(\u001b[0m\u001b[0mrequest\u001b[0m\u001b[1;33m,\u001b[0m \u001b[1;33m**\u001b[0m\u001b[0mkwargs\u001b[0m\u001b[1;33m)\u001b[0m\u001b[1;33m\u001b[0m\u001b[1;33m\u001b[0m\u001b[0m\n\u001b[0m\u001b[0;32m    656\u001b[0m \u001b[1;33m\u001b[0m\u001b[0m\n\u001b[0;32m    657\u001b[0m         \u001b[1;31m# Total elapsed time of the request (approximately)\u001b[0m\u001b[1;33m\u001b[0m\u001b[1;33m\u001b[0m\u001b[1;33m\u001b[0m\u001b[0m\n",
      "\u001b[1;32m~\\Anaconda3\\envs\\py38\\lib\\site-packages\\requests\\adapters.py\u001b[0m in \u001b[0;36msend\u001b[1;34m(self, request, stream, timeout, verify, cert, proxies)\u001b[0m\n\u001b[0;32m    437\u001b[0m         \u001b[1;32mtry\u001b[0m\u001b[1;33m:\u001b[0m\u001b[1;33m\u001b[0m\u001b[1;33m\u001b[0m\u001b[0m\n\u001b[0;32m    438\u001b[0m             \u001b[1;32mif\u001b[0m \u001b[1;32mnot\u001b[0m \u001b[0mchunked\u001b[0m\u001b[1;33m:\u001b[0m\u001b[1;33m\u001b[0m\u001b[1;33m\u001b[0m\u001b[0m\n\u001b[1;32m--> 439\u001b[1;33m                 resp = conn.urlopen(\n\u001b[0m\u001b[0;32m    440\u001b[0m                     \u001b[0mmethod\u001b[0m\u001b[1;33m=\u001b[0m\u001b[0mrequest\u001b[0m\u001b[1;33m.\u001b[0m\u001b[0mmethod\u001b[0m\u001b[1;33m,\u001b[0m\u001b[1;33m\u001b[0m\u001b[1;33m\u001b[0m\u001b[0m\n\u001b[0;32m    441\u001b[0m                     \u001b[0murl\u001b[0m\u001b[1;33m=\u001b[0m\u001b[0murl\u001b[0m\u001b[1;33m,\u001b[0m\u001b[1;33m\u001b[0m\u001b[1;33m\u001b[0m\u001b[0m\n",
      "\u001b[1;32m~\\Anaconda3\\envs\\py38\\lib\\site-packages\\urllib3\\connectionpool.py\u001b[0m in \u001b[0;36murlopen\u001b[1;34m(self, method, url, body, headers, retries, redirect, assert_same_host, timeout, pool_timeout, release_conn, chunked, body_pos, **response_kw)\u001b[0m\n\u001b[0;32m    697\u001b[0m \u001b[1;33m\u001b[0m\u001b[0m\n\u001b[0;32m    698\u001b[0m             \u001b[1;31m# Make the request on the httplib connection object.\u001b[0m\u001b[1;33m\u001b[0m\u001b[1;33m\u001b[0m\u001b[1;33m\u001b[0m\u001b[0m\n\u001b[1;32m--> 699\u001b[1;33m             httplib_response = self._make_request(\n\u001b[0m\u001b[0;32m    700\u001b[0m                 \u001b[0mconn\u001b[0m\u001b[1;33m,\u001b[0m\u001b[1;33m\u001b[0m\u001b[1;33m\u001b[0m\u001b[0m\n\u001b[0;32m    701\u001b[0m                 \u001b[0mmethod\u001b[0m\u001b[1;33m,\u001b[0m\u001b[1;33m\u001b[0m\u001b[1;33m\u001b[0m\u001b[0m\n",
      "\u001b[1;32m~\\Anaconda3\\envs\\py38\\lib\\site-packages\\urllib3\\connectionpool.py\u001b[0m in \u001b[0;36m_make_request\u001b[1;34m(self, conn, method, url, timeout, chunked, **httplib_request_kw)\u001b[0m\n\u001b[0;32m    392\u001b[0m                 \u001b[0mconn\u001b[0m\u001b[1;33m.\u001b[0m\u001b[0mrequest_chunked\u001b[0m\u001b[1;33m(\u001b[0m\u001b[0mmethod\u001b[0m\u001b[1;33m,\u001b[0m \u001b[0murl\u001b[0m\u001b[1;33m,\u001b[0m \u001b[1;33m**\u001b[0m\u001b[0mhttplib_request_kw\u001b[0m\u001b[1;33m)\u001b[0m\u001b[1;33m\u001b[0m\u001b[1;33m\u001b[0m\u001b[0m\n\u001b[0;32m    393\u001b[0m             \u001b[1;32melse\u001b[0m\u001b[1;33m:\u001b[0m\u001b[1;33m\u001b[0m\u001b[1;33m\u001b[0m\u001b[0m\n\u001b[1;32m--> 394\u001b[1;33m                 \u001b[0mconn\u001b[0m\u001b[1;33m.\u001b[0m\u001b[0mrequest\u001b[0m\u001b[1;33m(\u001b[0m\u001b[0mmethod\u001b[0m\u001b[1;33m,\u001b[0m \u001b[0murl\u001b[0m\u001b[1;33m,\u001b[0m \u001b[1;33m**\u001b[0m\u001b[0mhttplib_request_kw\u001b[0m\u001b[1;33m)\u001b[0m\u001b[1;33m\u001b[0m\u001b[1;33m\u001b[0m\u001b[0m\n\u001b[0m\u001b[0;32m    395\u001b[0m \u001b[1;33m\u001b[0m\u001b[0m\n\u001b[0;32m    396\u001b[0m         \u001b[1;31m# We are swallowing BrokenPipeError (errno.EPIPE) since the server is\u001b[0m\u001b[1;33m\u001b[0m\u001b[1;33m\u001b[0m\u001b[1;33m\u001b[0m\u001b[0m\n",
      "\u001b[1;32m~\\Anaconda3\\envs\\py38\\lib\\site-packages\\urllib3\\connection.py\u001b[0m in \u001b[0;36mrequest\u001b[1;34m(self, method, url, body, headers)\u001b[0m\n\u001b[0;32m    232\u001b[0m         \u001b[1;32mif\u001b[0m \u001b[1;34m\"user-agent\"\u001b[0m \u001b[1;32mnot\u001b[0m \u001b[1;32min\u001b[0m \u001b[1;33m(\u001b[0m\u001b[0msix\u001b[0m\u001b[1;33m.\u001b[0m\u001b[0mensure_str\u001b[0m\u001b[1;33m(\u001b[0m\u001b[0mk\u001b[0m\u001b[1;33m.\u001b[0m\u001b[0mlower\u001b[0m\u001b[1;33m(\u001b[0m\u001b[1;33m)\u001b[0m\u001b[1;33m)\u001b[0m \u001b[1;32mfor\u001b[0m \u001b[0mk\u001b[0m \u001b[1;32min\u001b[0m \u001b[0mheaders\u001b[0m\u001b[1;33m)\u001b[0m\u001b[1;33m:\u001b[0m\u001b[1;33m\u001b[0m\u001b[1;33m\u001b[0m\u001b[0m\n\u001b[0;32m    233\u001b[0m             \u001b[0mheaders\u001b[0m\u001b[1;33m[\u001b[0m\u001b[1;34m\"User-Agent\"\u001b[0m\u001b[1;33m]\u001b[0m \u001b[1;33m=\u001b[0m \u001b[0m_get_default_user_agent\u001b[0m\u001b[1;33m(\u001b[0m\u001b[1;33m)\u001b[0m\u001b[1;33m\u001b[0m\u001b[1;33m\u001b[0m\u001b[0m\n\u001b[1;32m--> 234\u001b[1;33m         \u001b[0msuper\u001b[0m\u001b[1;33m(\u001b[0m\u001b[0mHTTPConnection\u001b[0m\u001b[1;33m,\u001b[0m \u001b[0mself\u001b[0m\u001b[1;33m)\u001b[0m\u001b[1;33m.\u001b[0m\u001b[0mrequest\u001b[0m\u001b[1;33m(\u001b[0m\u001b[0mmethod\u001b[0m\u001b[1;33m,\u001b[0m \u001b[0murl\u001b[0m\u001b[1;33m,\u001b[0m \u001b[0mbody\u001b[0m\u001b[1;33m=\u001b[0m\u001b[0mbody\u001b[0m\u001b[1;33m,\u001b[0m \u001b[0mheaders\u001b[0m\u001b[1;33m=\u001b[0m\u001b[0mheaders\u001b[0m\u001b[1;33m)\u001b[0m\u001b[1;33m\u001b[0m\u001b[1;33m\u001b[0m\u001b[0m\n\u001b[0m\u001b[0;32m    235\u001b[0m \u001b[1;33m\u001b[0m\u001b[0m\n\u001b[0;32m    236\u001b[0m     \u001b[1;32mdef\u001b[0m \u001b[0mrequest_chunked\u001b[0m\u001b[1;33m(\u001b[0m\u001b[0mself\u001b[0m\u001b[1;33m,\u001b[0m \u001b[0mmethod\u001b[0m\u001b[1;33m,\u001b[0m \u001b[0murl\u001b[0m\u001b[1;33m,\u001b[0m \u001b[0mbody\u001b[0m\u001b[1;33m=\u001b[0m\u001b[1;32mNone\u001b[0m\u001b[1;33m,\u001b[0m \u001b[0mheaders\u001b[0m\u001b[1;33m=\u001b[0m\u001b[1;32mNone\u001b[0m\u001b[1;33m)\u001b[0m\u001b[1;33m:\u001b[0m\u001b[1;33m\u001b[0m\u001b[1;33m\u001b[0m\u001b[0m\n",
      "\u001b[1;32m~\\Anaconda3\\envs\\py38\\lib\\http\\client.py\u001b[0m in \u001b[0;36mrequest\u001b[1;34m(self, method, url, body, headers, encode_chunked)\u001b[0m\n\u001b[0;32m   1253\u001b[0m                 encode_chunked=False):\n\u001b[0;32m   1254\u001b[0m         \u001b[1;34m\"\"\"Send a complete request to the server.\"\"\"\u001b[0m\u001b[1;33m\u001b[0m\u001b[1;33m\u001b[0m\u001b[0m\n\u001b[1;32m-> 1255\u001b[1;33m         \u001b[0mself\u001b[0m\u001b[1;33m.\u001b[0m\u001b[0m_send_request\u001b[0m\u001b[1;33m(\u001b[0m\u001b[0mmethod\u001b[0m\u001b[1;33m,\u001b[0m \u001b[0murl\u001b[0m\u001b[1;33m,\u001b[0m \u001b[0mbody\u001b[0m\u001b[1;33m,\u001b[0m \u001b[0mheaders\u001b[0m\u001b[1;33m,\u001b[0m \u001b[0mencode_chunked\u001b[0m\u001b[1;33m)\u001b[0m\u001b[1;33m\u001b[0m\u001b[1;33m\u001b[0m\u001b[0m\n\u001b[0m\u001b[0;32m   1256\u001b[0m \u001b[1;33m\u001b[0m\u001b[0m\n\u001b[0;32m   1257\u001b[0m     \u001b[1;32mdef\u001b[0m \u001b[0m_send_request\u001b[0m\u001b[1;33m(\u001b[0m\u001b[0mself\u001b[0m\u001b[1;33m,\u001b[0m \u001b[0mmethod\u001b[0m\u001b[1;33m,\u001b[0m \u001b[0murl\u001b[0m\u001b[1;33m,\u001b[0m \u001b[0mbody\u001b[0m\u001b[1;33m,\u001b[0m \u001b[0mheaders\u001b[0m\u001b[1;33m,\u001b[0m \u001b[0mencode_chunked\u001b[0m\u001b[1;33m)\u001b[0m\u001b[1;33m:\u001b[0m\u001b[1;33m\u001b[0m\u001b[1;33m\u001b[0m\u001b[0m\n",
      "\u001b[1;32m~\\Anaconda3\\envs\\py38\\lib\\http\\client.py\u001b[0m in \u001b[0;36m_send_request\u001b[1;34m(self, method, url, body, headers, encode_chunked)\u001b[0m\n\u001b[0;32m   1299\u001b[0m             \u001b[1;31m# default charset of iso-8859-1.\u001b[0m\u001b[1;33m\u001b[0m\u001b[1;33m\u001b[0m\u001b[1;33m\u001b[0m\u001b[0m\n\u001b[0;32m   1300\u001b[0m             \u001b[0mbody\u001b[0m \u001b[1;33m=\u001b[0m \u001b[0m_encode\u001b[0m\u001b[1;33m(\u001b[0m\u001b[0mbody\u001b[0m\u001b[1;33m,\u001b[0m \u001b[1;34m'body'\u001b[0m\u001b[1;33m)\u001b[0m\u001b[1;33m\u001b[0m\u001b[1;33m\u001b[0m\u001b[0m\n\u001b[1;32m-> 1301\u001b[1;33m         \u001b[0mself\u001b[0m\u001b[1;33m.\u001b[0m\u001b[0mendheaders\u001b[0m\u001b[1;33m(\u001b[0m\u001b[0mbody\u001b[0m\u001b[1;33m,\u001b[0m \u001b[0mencode_chunked\u001b[0m\u001b[1;33m=\u001b[0m\u001b[0mencode_chunked\u001b[0m\u001b[1;33m)\u001b[0m\u001b[1;33m\u001b[0m\u001b[1;33m\u001b[0m\u001b[0m\n\u001b[0m\u001b[0;32m   1302\u001b[0m \u001b[1;33m\u001b[0m\u001b[0m\n\u001b[0;32m   1303\u001b[0m     \u001b[1;32mdef\u001b[0m \u001b[0mgetresponse\u001b[0m\u001b[1;33m(\u001b[0m\u001b[0mself\u001b[0m\u001b[1;33m)\u001b[0m\u001b[1;33m:\u001b[0m\u001b[1;33m\u001b[0m\u001b[1;33m\u001b[0m\u001b[0m\n",
      "\u001b[1;32m~\\Anaconda3\\envs\\py38\\lib\\http\\client.py\u001b[0m in \u001b[0;36mendheaders\u001b[1;34m(self, message_body, encode_chunked)\u001b[0m\n\u001b[0;32m   1248\u001b[0m         \u001b[1;32melse\u001b[0m\u001b[1;33m:\u001b[0m\u001b[1;33m\u001b[0m\u001b[1;33m\u001b[0m\u001b[0m\n\u001b[0;32m   1249\u001b[0m             \u001b[1;32mraise\u001b[0m \u001b[0mCannotSendHeader\u001b[0m\u001b[1;33m(\u001b[0m\u001b[1;33m)\u001b[0m\u001b[1;33m\u001b[0m\u001b[1;33m\u001b[0m\u001b[0m\n\u001b[1;32m-> 1250\u001b[1;33m         \u001b[0mself\u001b[0m\u001b[1;33m.\u001b[0m\u001b[0m_send_output\u001b[0m\u001b[1;33m(\u001b[0m\u001b[0mmessage_body\u001b[0m\u001b[1;33m,\u001b[0m \u001b[0mencode_chunked\u001b[0m\u001b[1;33m=\u001b[0m\u001b[0mencode_chunked\u001b[0m\u001b[1;33m)\u001b[0m\u001b[1;33m\u001b[0m\u001b[1;33m\u001b[0m\u001b[0m\n\u001b[0m\u001b[0;32m   1251\u001b[0m \u001b[1;33m\u001b[0m\u001b[0m\n\u001b[0;32m   1252\u001b[0m     def request(self, method, url, body=None, headers={}, *,\n",
      "\u001b[1;32m~\\Anaconda3\\envs\\py38\\lib\\http\\client.py\u001b[0m in \u001b[0;36m_send_output\u001b[1;34m(self, message_body, encode_chunked)\u001b[0m\n\u001b[0;32m   1008\u001b[0m         \u001b[0mmsg\u001b[0m \u001b[1;33m=\u001b[0m \u001b[1;34mb\"\\r\\n\"\u001b[0m\u001b[1;33m.\u001b[0m\u001b[0mjoin\u001b[0m\u001b[1;33m(\u001b[0m\u001b[0mself\u001b[0m\u001b[1;33m.\u001b[0m\u001b[0m_buffer\u001b[0m\u001b[1;33m)\u001b[0m\u001b[1;33m\u001b[0m\u001b[1;33m\u001b[0m\u001b[0m\n\u001b[0;32m   1009\u001b[0m         \u001b[1;32mdel\u001b[0m \u001b[0mself\u001b[0m\u001b[1;33m.\u001b[0m\u001b[0m_buffer\u001b[0m\u001b[1;33m[\u001b[0m\u001b[1;33m:\u001b[0m\u001b[1;33m]\u001b[0m\u001b[1;33m\u001b[0m\u001b[1;33m\u001b[0m\u001b[0m\n\u001b[1;32m-> 1010\u001b[1;33m         \u001b[0mself\u001b[0m\u001b[1;33m.\u001b[0m\u001b[0msend\u001b[0m\u001b[1;33m(\u001b[0m\u001b[0mmsg\u001b[0m\u001b[1;33m)\u001b[0m\u001b[1;33m\u001b[0m\u001b[1;33m\u001b[0m\u001b[0m\n\u001b[0m\u001b[0;32m   1011\u001b[0m \u001b[1;33m\u001b[0m\u001b[0m\n\u001b[0;32m   1012\u001b[0m         \u001b[1;32mif\u001b[0m \u001b[0mmessage_body\u001b[0m \u001b[1;32mis\u001b[0m \u001b[1;32mnot\u001b[0m \u001b[1;32mNone\u001b[0m\u001b[1;33m:\u001b[0m\u001b[1;33m\u001b[0m\u001b[1;33m\u001b[0m\u001b[0m\n",
      "\u001b[1;32m~\\Anaconda3\\envs\\py38\\lib\\http\\client.py\u001b[0m in \u001b[0;36msend\u001b[1;34m(self, data)\u001b[0m\n\u001b[0;32m    948\u001b[0m         \u001b[1;32mif\u001b[0m \u001b[0mself\u001b[0m\u001b[1;33m.\u001b[0m\u001b[0msock\u001b[0m \u001b[1;32mis\u001b[0m \u001b[1;32mNone\u001b[0m\u001b[1;33m:\u001b[0m\u001b[1;33m\u001b[0m\u001b[1;33m\u001b[0m\u001b[0m\n\u001b[0;32m    949\u001b[0m             \u001b[1;32mif\u001b[0m \u001b[0mself\u001b[0m\u001b[1;33m.\u001b[0m\u001b[0mauto_open\u001b[0m\u001b[1;33m:\u001b[0m\u001b[1;33m\u001b[0m\u001b[1;33m\u001b[0m\u001b[0m\n\u001b[1;32m--> 950\u001b[1;33m                 \u001b[0mself\u001b[0m\u001b[1;33m.\u001b[0m\u001b[0mconnect\u001b[0m\u001b[1;33m(\u001b[0m\u001b[1;33m)\u001b[0m\u001b[1;33m\u001b[0m\u001b[1;33m\u001b[0m\u001b[0m\n\u001b[0m\u001b[0;32m    951\u001b[0m             \u001b[1;32melse\u001b[0m\u001b[1;33m:\u001b[0m\u001b[1;33m\u001b[0m\u001b[1;33m\u001b[0m\u001b[0m\n\u001b[0;32m    952\u001b[0m                 \u001b[1;32mraise\u001b[0m \u001b[0mNotConnected\u001b[0m\u001b[1;33m(\u001b[0m\u001b[1;33m)\u001b[0m\u001b[1;33m\u001b[0m\u001b[1;33m\u001b[0m\u001b[0m\n",
      "\u001b[1;32m~\\Anaconda3\\envs\\py38\\lib\\site-packages\\urllib3\\connection.py\u001b[0m in \u001b[0;36mconnect\u001b[1;34m(self)\u001b[0m\n\u001b[0;32m    198\u001b[0m \u001b[1;33m\u001b[0m\u001b[0m\n\u001b[0;32m    199\u001b[0m     \u001b[1;32mdef\u001b[0m \u001b[0mconnect\u001b[0m\u001b[1;33m(\u001b[0m\u001b[0mself\u001b[0m\u001b[1;33m)\u001b[0m\u001b[1;33m:\u001b[0m\u001b[1;33m\u001b[0m\u001b[1;33m\u001b[0m\u001b[0m\n\u001b[1;32m--> 200\u001b[1;33m         \u001b[0mconn\u001b[0m \u001b[1;33m=\u001b[0m \u001b[0mself\u001b[0m\u001b[1;33m.\u001b[0m\u001b[0m_new_conn\u001b[0m\u001b[1;33m(\u001b[0m\u001b[1;33m)\u001b[0m\u001b[1;33m\u001b[0m\u001b[1;33m\u001b[0m\u001b[0m\n\u001b[0m\u001b[0;32m    201\u001b[0m         \u001b[0mself\u001b[0m\u001b[1;33m.\u001b[0m\u001b[0m_prepare_conn\u001b[0m\u001b[1;33m(\u001b[0m\u001b[0mconn\u001b[0m\u001b[1;33m)\u001b[0m\u001b[1;33m\u001b[0m\u001b[1;33m\u001b[0m\u001b[0m\n\u001b[0;32m    202\u001b[0m \u001b[1;33m\u001b[0m\u001b[0m\n",
      "\u001b[1;32m~\\Anaconda3\\envs\\py38\\lib\\site-packages\\urllib3\\connection.py\u001b[0m in \u001b[0;36m_new_conn\u001b[1;34m(self)\u001b[0m\n\u001b[0;32m    167\u001b[0m \u001b[1;33m\u001b[0m\u001b[0m\n\u001b[0;32m    168\u001b[0m         \u001b[1;32mtry\u001b[0m\u001b[1;33m:\u001b[0m\u001b[1;33m\u001b[0m\u001b[1;33m\u001b[0m\u001b[0m\n\u001b[1;32m--> 169\u001b[1;33m             conn = connection.create_connection(\n\u001b[0m\u001b[0;32m    170\u001b[0m                 \u001b[1;33m(\u001b[0m\u001b[0mself\u001b[0m\u001b[1;33m.\u001b[0m\u001b[0m_dns_host\u001b[0m\u001b[1;33m,\u001b[0m \u001b[0mself\u001b[0m\u001b[1;33m.\u001b[0m\u001b[0mport\u001b[0m\u001b[1;33m)\u001b[0m\u001b[1;33m,\u001b[0m \u001b[0mself\u001b[0m\u001b[1;33m.\u001b[0m\u001b[0mtimeout\u001b[0m\u001b[1;33m,\u001b[0m \u001b[1;33m**\u001b[0m\u001b[0mextra_kw\u001b[0m\u001b[1;33m\u001b[0m\u001b[1;33m\u001b[0m\u001b[0m\n\u001b[0;32m    171\u001b[0m             )\n",
      "\u001b[1;32m~\\Anaconda3\\envs\\py38\\lib\\site-packages\\urllib3\\util\\connection.py\u001b[0m in \u001b[0;36mcreate_connection\u001b[1;34m(address, timeout, source_address, socket_options)\u001b[0m\n\u001b[0;32m     84\u001b[0m             \u001b[1;32mif\u001b[0m \u001b[0msource_address\u001b[0m\u001b[1;33m:\u001b[0m\u001b[1;33m\u001b[0m\u001b[1;33m\u001b[0m\u001b[0m\n\u001b[0;32m     85\u001b[0m                 \u001b[0msock\u001b[0m\u001b[1;33m.\u001b[0m\u001b[0mbind\u001b[0m\u001b[1;33m(\u001b[0m\u001b[0msource_address\u001b[0m\u001b[1;33m)\u001b[0m\u001b[1;33m\u001b[0m\u001b[1;33m\u001b[0m\u001b[0m\n\u001b[1;32m---> 86\u001b[1;33m             \u001b[0msock\u001b[0m\u001b[1;33m.\u001b[0m\u001b[0mconnect\u001b[0m\u001b[1;33m(\u001b[0m\u001b[0msa\u001b[0m\u001b[1;33m)\u001b[0m\u001b[1;33m\u001b[0m\u001b[1;33m\u001b[0m\u001b[0m\n\u001b[0m\u001b[0;32m     87\u001b[0m             \u001b[1;32mreturn\u001b[0m \u001b[0msock\u001b[0m\u001b[1;33m\u001b[0m\u001b[1;33m\u001b[0m\u001b[0m\n\u001b[0;32m     88\u001b[0m \u001b[1;33m\u001b[0m\u001b[0m\n",
      "\u001b[1;31mKeyboardInterrupt\u001b[0m: "
     ]
    }
   ],
   "source": [
    "dictionary = PyDictionary(unique)\n",
    "print(dictionary.printMeanings())"
   ]
  }
 ],
 "metadata": {
  "kernelspec": {
   "display_name": "Python [conda env:py38] *",
   "language": "python",
   "name": "conda-env-py38-py"
  },
  "language_info": {
   "codemirror_mode": {
    "name": "ipython",
    "version": 3
   },
   "file_extension": ".py",
   "mimetype": "text/x-python",
   "name": "python",
   "nbconvert_exporter": "python",
   "pygments_lexer": "ipython3",
   "version": "3.8.8"
  }
 },
 "nbformat": 4,
 "nbformat_minor": 5
}
